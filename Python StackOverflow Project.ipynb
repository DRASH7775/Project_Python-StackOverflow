{
 "cells": [
  {
   "cell_type": "markdown",
   "metadata": {
    "collapsed": true
   },
   "source": [
    "## Stack Overflow Python Analysis"
   ]
  },
  {
   "cell_type": "markdown",
   "metadata": {},
   "source": [
    "#### Executive Summary"
   ]
  },
  {
   "cell_type": "markdown",
   "metadata": {},
   "source": [
    "Stack Overflow is an open source coding exchange website founded in 2008, where users can inquire and provide feedback about coding projects using a variety of coding languages. The website facilitates the self-teaching of programming languages and provides crowdsourced information for those seeking coding help. Since its foundation, hundreds of thousands of questions and answers have been submitted and logged into the Stack Overflow database. After nearly a decade of recorded data, we want to find out if we can analyze this data in order to discover existing trends.\n",
    "           \n",
    "Because Stack Overflow is used for students and other individuals wanting to learn programming, analyzing the trends of the website can give us valuable insight on the process of  how individuals learn a programming language. This information, in turn can be used to improve the teaching methods of instructors, as they will have a better understanding of students by knowing the patterns that emerge within individuals learning a programming language.\n",
    "\n"
   ]
  },
  {
   "cell_type": "markdown",
   "metadata": {},
   "source": [
    "#### Ideal Findings"
   ]
  },
  {
   "cell_type": "markdown",
   "metadata": {},
   "source": [
    "For our analysis, we will be analyzing a dataset of python-specific questions from the Stack Overflow database. From this question bank, we hope to discover common topics and taglines that are included within the asked questions. This information would reveal the most frequently asked questions on the website and give us an idea of which topics are of most interest to individuals learning python. In addition, we plan to perform a time-series analysis on the peak times during the day and week that users post python related questions. Furthermore, we want to gauge the average time it takes between a question being asked and answered, in order to measure the effectiveness of the website. Lastly, we want to perform a predictive analysis of a “good question” given the factors that can constitute it, and build a model using this algorith that can predict a good or bad question. All of this collected information can assist in the development of python curriculum. By knowing the most sought after topics and the peak times that students program, instructors can develop their curriculum in a way that addresses the inquiries that students have, thus improving the teaching process. "
   ]
  },
  {
   "cell_type": "markdown",
   "metadata": {},
   "source": [
    "#### Background Summary "
   ]
  },
  {
   "cell_type": "markdown",
   "metadata": {},
   "source": [
    "Previously, a similar analysis was conducted using this particular dataset. The experimenter wanted to analyze the treatment of Stack Overflow as a social network, and created a wordmap using popular tags provided by Stack Overflow and modeled an image that portrayed the words in varying sizes based on popularity. Our goal is to further expand this analysis and create a list of the most questioned terms, and create a frequency illustration of these terms. The prior analysis also incorporated machine learning elements in the analysis as well, which created an algorithm of what makes a “good\" question. We want to perform a similar model and create a predictive algorithm of our own ideally with higher accuracy. The peak time analysis and the question/answer speed analysis have not been completed to our knowledge during the time of this project, and we hope to build upon the research behind this dataset with these additions.\n",
    "\n"
   ]
  },
  {
   "cell_type": "markdown",
   "metadata": {},
   "source": [
    "###### *Computational setup and Results are listed within each section of the report. Steps are provided internally and results are discribed after they are printed"
   ]
  },
  {
   "cell_type": "markdown",
   "metadata": {
    "collapsed": true
   },
   "source": [
    "#### Import files"
   ]
  },
  {
   "cell_type": "code",
   "execution_count": 1,
   "metadata": {
    "collapsed": true
   },
   "outputs": [],
   "source": [
    "import pandas as pd                    #import libraries\n",
    "import numpy as np\n",
    "import matplotlib.pyplot as plt\n",
    "import seaborn as sns\n",
    "% matplotlib inline"
   ]
  },
  {
   "cell_type": "markdown",
   "metadata": {},
   "source": [
    "*To run this operation, the files Questions.csv, Answers.csv, and Tags.csv must be present within the working folder.\n",
    "Download Link: https://www.kaggle.com/stackoverflow/pythonquestions"
   ]
  },
  {
   "cell_type": "code",
   "execution_count": 2,
   "metadata": {
    "collapsed": true
   },
   "outputs": [],
   "source": [
    "Q = pd.read_csv('Questions.csv')  #read the Questions file\n",
    "tags = pd.read_csv('Tags.csv')            #read the Tags file"
   ]
  },
  {
   "cell_type": "markdown",
   "metadata": {},
   "source": [
    "#### Frequency Distribution of Questions"
   ]
  },
  {
   "cell_type": "markdown",
   "metadata": {},
   "source": [
    "Firstly, we want to find the frequency of the python related questions asked on Stack Overflow, and see if any trends exist within the days and weeks. Knowing this information can be helpful in knowing the peak times that users post questions, which would correlate directly into when users perform the most programming. It can be assumed that the more questions that are answered during a given time, the more people are working on coding projects during that same given time.  "
   ]
  },
  {
   "cell_type": "code",
   "execution_count": 3,
   "metadata": {
    "collapsed": true
   },
   "outputs": [],
   "source": [
    "Q[\"Creation_Date\"] = Q[\"CreationDate\"].str[:10] \n",
    "#extract the first ten of the strings and store them as Q[\"Creation_Date\"]\n",
    "Q[\"Creation_Time\"] = Q[\"CreationDate\"].str[11:19] \n",
    "#extract the 12th to 19th of the strings and store them as Q[\"Creation_Time\"]"
   ]
  },
  {
   "cell_type": "code",
   "execution_count": 4,
   "metadata": {},
   "outputs": [
    {
     "data": {
      "text/html": [
       "<div>\n",
       "<style>\n",
       "    .dataframe thead tr:only-child th {\n",
       "        text-align: right;\n",
       "    }\n",
       "\n",
       "    .dataframe thead th {\n",
       "        text-align: left;\n",
       "    }\n",
       "\n",
       "    .dataframe tbody tr th {\n",
       "        vertical-align: top;\n",
       "    }\n",
       "</style>\n",
       "<table border=\"1\" class=\"dataframe\">\n",
       "  <thead>\n",
       "    <tr style=\"text-align: right;\">\n",
       "      <th></th>\n",
       "      <th>Id</th>\n",
       "      <th>OwnerUserId</th>\n",
       "      <th>CreationDate</th>\n",
       "      <th>Score</th>\n",
       "      <th>Title</th>\n",
       "      <th>Body</th>\n",
       "      <th>Creation_Date</th>\n",
       "      <th>Creation_Time</th>\n",
       "      <th>Start Day</th>\n",
       "      <th>Start Time</th>\n",
       "      <th>Start Weekday</th>\n",
       "      <th>Hours</th>\n",
       "      <th>Day_Of_Week</th>\n",
       "    </tr>\n",
       "  </thead>\n",
       "  <tbody>\n",
       "    <tr>\n",
       "      <th>0</th>\n",
       "      <td>469</td>\n",
       "      <td>147.0</td>\n",
       "      <td>2008-08-02T15:11:16Z</td>\n",
       "      <td>21</td>\n",
       "      <td>How can I find the full path to a font from it...</td>\n",
       "      <td>&lt;p&gt;I am using the Photoshop's javascript API t...</td>\n",
       "      <td>2008-08-02</td>\n",
       "      <td>15:11:16</td>\n",
       "      <td>2008-08-02</td>\n",
       "      <td>15:11:16</td>\n",
       "      <td>5</td>\n",
       "      <td>15</td>\n",
       "      <td>Saturday</td>\n",
       "    </tr>\n",
       "    <tr>\n",
       "      <th>1</th>\n",
       "      <td>502</td>\n",
       "      <td>147.0</td>\n",
       "      <td>2008-08-02T17:01:58Z</td>\n",
       "      <td>27</td>\n",
       "      <td>Get a preview JPEG of a PDF on Windows?</td>\n",
       "      <td>&lt;p&gt;I have a cross-platform (Python) applicatio...</td>\n",
       "      <td>2008-08-02</td>\n",
       "      <td>17:01:58</td>\n",
       "      <td>2008-08-02</td>\n",
       "      <td>17:01:58</td>\n",
       "      <td>5</td>\n",
       "      <td>17</td>\n",
       "      <td>Saturday</td>\n",
       "    </tr>\n",
       "    <tr>\n",
       "      <th>2</th>\n",
       "      <td>535</td>\n",
       "      <td>154.0</td>\n",
       "      <td>2008-08-02T18:43:54Z</td>\n",
       "      <td>40</td>\n",
       "      <td>Continuous Integration System for a Python Cod...</td>\n",
       "      <td>&lt;p&gt;I'm starting work on a hobby project with a...</td>\n",
       "      <td>2008-08-02</td>\n",
       "      <td>18:43:54</td>\n",
       "      <td>2008-08-02</td>\n",
       "      <td>18:43:54</td>\n",
       "      <td>5</td>\n",
       "      <td>18</td>\n",
       "      <td>Saturday</td>\n",
       "    </tr>\n",
       "  </tbody>\n",
       "</table>\n",
       "</div>"
      ],
      "text/plain": [
       "    Id  OwnerUserId          CreationDate  Score  \\\n",
       "0  469        147.0  2008-08-02T15:11:16Z     21   \n",
       "1  502        147.0  2008-08-02T17:01:58Z     27   \n",
       "2  535        154.0  2008-08-02T18:43:54Z     40   \n",
       "\n",
       "                                               Title  \\\n",
       "0  How can I find the full path to a font from it...   \n",
       "1            Get a preview JPEG of a PDF on Windows?   \n",
       "2  Continuous Integration System for a Python Cod...   \n",
       "\n",
       "                                                Body Creation_Date  \\\n",
       "0  <p>I am using the Photoshop's javascript API t...    2008-08-02   \n",
       "1  <p>I have a cross-platform (Python) applicatio...    2008-08-02   \n",
       "2  <p>I'm starting work on a hobby project with a...    2008-08-02   \n",
       "\n",
       "  Creation_Time   Start Day Start Time  Start Weekday  Hours Day_Of_Week  \n",
       "0      15:11:16  2008-08-02   15:11:16              5     15    Saturday  \n",
       "1      17:01:58  2008-08-02   17:01:58              5     17    Saturday  \n",
       "2      18:43:54  2008-08-02   18:43:54              5     18    Saturday  "
      ]
     },
     "execution_count": 4,
     "metadata": {},
     "output_type": "execute_result"
    }
   ],
   "source": [
    "import datetime as dt  \n",
    "#assign a question date and time parameter\n",
    "Q['Start Day']=pd.DatetimeIndex(Q['Creation_Date']).date  \n",
    "Q['Start Time']=pd.DatetimeIndex(Q['Creation_Time']).time  \n",
    "Q['Start Weekday']=pd.DatetimeIndex(Q['Creation_Date']).weekday \n",
    "Q['Hours']=pd.DatetimeIndex(Q['Creation_Time']).hour\n",
    "Q['Day_Of_Week']=pd.DatetimeIndex(Q['Creation_Date']).weekday_name\n",
    "\n",
    "Q.head(3)"
   ]
  },
  {
   "cell_type": "code",
   "execution_count": 5,
   "metadata": {},
   "outputs": [
    {
     "data": {
      "text/html": [
       "<div>\n",
       "<style>\n",
       "    .dataframe thead tr:only-child th {\n",
       "        text-align: right;\n",
       "    }\n",
       "\n",
       "    .dataframe thead th {\n",
       "        text-align: left;\n",
       "    }\n",
       "\n",
       "    .dataframe tbody tr th {\n",
       "        vertical-align: top;\n",
       "    }\n",
       "</style>\n",
       "<table border=\"1\" class=\"dataframe\">\n",
       "  <thead>\n",
       "    <tr style=\"text-align: right;\">\n",
       "      <th></th>\n",
       "      <th>Start Weekday</th>\n",
       "      <th>Hours</th>\n",
       "      <th>Day_Of_Week</th>\n",
       "      <th>Id</th>\n",
       "    </tr>\n",
       "  </thead>\n",
       "  <tbody>\n",
       "    <tr>\n",
       "      <th>0</th>\n",
       "      <td>0</td>\n",
       "      <td>0</td>\n",
       "      <td>Monday</td>\n",
       "      <td>2418</td>\n",
       "    </tr>\n",
       "    <tr>\n",
       "      <th>1</th>\n",
       "      <td>0</td>\n",
       "      <td>1</td>\n",
       "      <td>Monday</td>\n",
       "      <td>2433</td>\n",
       "    </tr>\n",
       "    <tr>\n",
       "      <th>2</th>\n",
       "      <td>0</td>\n",
       "      <td>2</td>\n",
       "      <td>Monday</td>\n",
       "      <td>2459</td>\n",
       "    </tr>\n",
       "  </tbody>\n",
       "</table>\n",
       "</div>"
      ],
      "text/plain": [
       "   Start Weekday  Hours Day_Of_Week    Id\n",
       "0              0      0      Monday  2418\n",
       "1              0      1      Monday  2433\n",
       "2              0      2      Monday  2459"
      ]
     },
     "execution_count": 5,
     "metadata": {},
     "output_type": "execute_result"
    }
   ],
   "source": [
    "Number_Of_Questions_Hours = Q.groupby([\"Start Weekday\", \"Hours\", \"Day_Of_Week\"], as_index=False).Id.count()  \n",
    "#group the data, add index to it and count the number of Ids \n",
    "Number_Of_Questions_Hours.head(3)"
   ]
  },
  {
   "cell_type": "code",
   "execution_count": 6,
   "metadata": {},
   "outputs": [
    {
     "name": "stderr",
     "output_type": "stream",
     "text": [
      "C:\\Users\\Doug\\Anaconda2\\lib\\site-packages\\ipykernel_launcher.py:7: SettingWithCopyWarning: \n",
      "A value is trying to be set on a copy of a slice from a DataFrame\n",
      "\n",
      "See the caveats in the documentation: http://pandas.pydata.org/pandas-docs/stable/indexing.html#indexing-view-versus-copy\n",
      "  import sys\n"
     ]
    },
    {
     "data": {
      "text/html": [
       "\n",
       "    <div class=\"bk-root\">\n",
       "        <a href=\"http://bokeh.pydata.org\" target=\"_blank\" class=\"bk-logo bk-logo-small bk-logo-notebook\"></a>\n",
       "        <span id=\"c53868ca-6431-43e2-a83f-07e9bd526718\">Loading BokehJS ...</span>\n",
       "    </div>"
      ]
     },
     "metadata": {},
     "output_type": "display_data"
    },
    {
     "data": {
      "application/javascript": [
       "\n",
       "(function(global) {\n",
       "  function now() {\n",
       "    return new Date();\n",
       "  }\n",
       "\n",
       "  var force = true;\n",
       "\n",
       "  if (typeof (window._bokeh_onload_callbacks) === \"undefined\" || force === true) {\n",
       "    window._bokeh_onload_callbacks = [];\n",
       "    window._bokeh_is_loading = undefined;\n",
       "  }\n",
       "\n",
       "\n",
       "  \n",
       "  if (typeof (window._bokeh_timeout) === \"undefined\" || force === true) {\n",
       "    window._bokeh_timeout = Date.now() + 5000;\n",
       "    window._bokeh_failed_load = false;\n",
       "  }\n",
       "\n",
       "  var NB_LOAD_WARNING = {'data': {'text/html':\n",
       "     \"<div style='background-color: #fdd'>\\n\"+\n",
       "     \"<p>\\n\"+\n",
       "     \"BokehJS does not appear to have successfully loaded. If loading BokehJS from CDN, this \\n\"+\n",
       "     \"may be due to a slow or bad network connection. Possible fixes:\\n\"+\n",
       "     \"</p>\\n\"+\n",
       "     \"<ul>\\n\"+\n",
       "     \"<li>re-rerun `output_notebook()` to attempt to load from CDN again, or</li>\\n\"+\n",
       "     \"<li>use INLINE resources instead, as so:</li>\\n\"+\n",
       "     \"</ul>\\n\"+\n",
       "     \"<code>\\n\"+\n",
       "     \"from bokeh.resources import INLINE\\n\"+\n",
       "     \"output_notebook(resources=INLINE)\\n\"+\n",
       "     \"</code>\\n\"+\n",
       "     \"</div>\"}};\n",
       "\n",
       "  function display_loaded() {\n",
       "    if (window.Bokeh !== undefined) {\n",
       "      var el = document.getElementById(\"c53868ca-6431-43e2-a83f-07e9bd526718\");\n",
       "      el.textContent = \"BokehJS \" + Bokeh.version + \" successfully loaded.\";\n",
       "    } else if (Date.now() < window._bokeh_timeout) {\n",
       "      setTimeout(display_loaded, 100)\n",
       "    }\n",
       "  }\n",
       "\n",
       "  function run_callbacks() {\n",
       "    window._bokeh_onload_callbacks.forEach(function(callback) { callback() });\n",
       "    delete window._bokeh_onload_callbacks\n",
       "    console.info(\"Bokeh: all callbacks have finished\");\n",
       "  }\n",
       "\n",
       "  function load_libs(js_urls, callback) {\n",
       "    window._bokeh_onload_callbacks.push(callback);\n",
       "    if (window._bokeh_is_loading > 0) {\n",
       "      console.log(\"Bokeh: BokehJS is being loaded, scheduling callback at\", now());\n",
       "      return null;\n",
       "    }\n",
       "    if (js_urls == null || js_urls.length === 0) {\n",
       "      run_callbacks();\n",
       "      return null;\n",
       "    }\n",
       "    console.log(\"Bokeh: BokehJS not loaded, scheduling load and callback at\", now());\n",
       "    window._bokeh_is_loading = js_urls.length;\n",
       "    for (var i = 0; i < js_urls.length; i++) {\n",
       "      var url = js_urls[i];\n",
       "      var s = document.createElement('script');\n",
       "      s.src = url;\n",
       "      s.async = false;\n",
       "      s.onreadystatechange = s.onload = function() {\n",
       "        window._bokeh_is_loading--;\n",
       "        if (window._bokeh_is_loading === 0) {\n",
       "          console.log(\"Bokeh: all BokehJS libraries loaded\");\n",
       "          run_callbacks()\n",
       "        }\n",
       "      };\n",
       "      s.onerror = function() {\n",
       "        console.warn(\"failed to load library \" + url);\n",
       "      };\n",
       "      console.log(\"Bokeh: injecting script tag for BokehJS library: \", url);\n",
       "      document.getElementsByTagName(\"head\")[0].appendChild(s);\n",
       "    }\n",
       "  };var element = document.getElementById(\"c53868ca-6431-43e2-a83f-07e9bd526718\");\n",
       "  if (element == null) {\n",
       "    console.log(\"Bokeh: ERROR: autoload.js configured with elementid 'c53868ca-6431-43e2-a83f-07e9bd526718' but no matching script tag was found. \")\n",
       "    return false;\n",
       "  }\n",
       "\n",
       "  var js_urls = [\"https://cdn.pydata.org/bokeh/release/bokeh-0.12.5.min.js\", \"https://cdn.pydata.org/bokeh/release/bokeh-widgets-0.12.5.min.js\"];\n",
       "\n",
       "  var inline_js = [\n",
       "    function(Bokeh) {\n",
       "      Bokeh.set_log_level(\"info\");\n",
       "    },\n",
       "    \n",
       "    function(Bokeh) {\n",
       "      \n",
       "    },\n",
       "    \n",
       "    function(Bokeh) {\n",
       "      \n",
       "      document.getElementById(\"c53868ca-6431-43e2-a83f-07e9bd526718\").textContent = \"BokehJS is loading...\";\n",
       "    },\n",
       "    function(Bokeh) {\n",
       "      console.log(\"Bokeh: injecting CSS: https://cdn.pydata.org/bokeh/release/bokeh-0.12.5.min.css\");\n",
       "      Bokeh.embed.inject_css(\"https://cdn.pydata.org/bokeh/release/bokeh-0.12.5.min.css\");\n",
       "      console.log(\"Bokeh: injecting CSS: https://cdn.pydata.org/bokeh/release/bokeh-widgets-0.12.5.min.css\");\n",
       "      Bokeh.embed.inject_css(\"https://cdn.pydata.org/bokeh/release/bokeh-widgets-0.12.5.min.css\");\n",
       "    }\n",
       "  ];\n",
       "\n",
       "  function run_inline_js() {\n",
       "    \n",
       "    if ((window.Bokeh !== undefined) || (force === true)) {\n",
       "      for (var i = 0; i < inline_js.length; i++) {\n",
       "        inline_js[i](window.Bokeh);\n",
       "      }if (force === true) {\n",
       "        display_loaded();\n",
       "      }} else if (Date.now() < window._bokeh_timeout) {\n",
       "      setTimeout(run_inline_js, 100);\n",
       "    } else if (!window._bokeh_failed_load) {\n",
       "      console.log(\"Bokeh: BokehJS failed to load within specified timeout.\");\n",
       "      window._bokeh_failed_load = true;\n",
       "    } else if (force !== true) {\n",
       "      var cell = $(document.getElementById(\"c53868ca-6431-43e2-a83f-07e9bd526718\")).parents('.cell').data().cell;\n",
       "      cell.output_area.append_execute_result(NB_LOAD_WARNING)\n",
       "    }\n",
       "\n",
       "  }\n",
       "\n",
       "  if (window._bokeh_is_loading === 0) {\n",
       "    console.log(\"Bokeh: BokehJS loaded, going straight to plotting\");\n",
       "    run_inline_js();\n",
       "  } else {\n",
       "    load_libs(js_urls, function() {\n",
       "      console.log(\"Bokeh: BokehJS plotting callback run at\", now());\n",
       "      run_inline_js();\n",
       "    });\n",
       "  }\n",
       "}(this));"
      ]
     },
     "metadata": {},
     "output_type": "display_data"
    },
    {
     "data": {
      "text/html": [
       "\n",
       "\n",
       "    <div class=\"bk-root\">\n",
       "        <div class=\"bk-plotdiv\" id=\"7cbedcdb-89df-4030-af20-4dbdc97fe19c\"></div>\n",
       "    </div>\n",
       "<script type=\"text/javascript\">\n",
       "  \n",
       "  (function(global) {\n",
       "    function now() {\n",
       "      return new Date();\n",
       "    }\n",
       "  \n",
       "    var force = false;\n",
       "  \n",
       "    if (typeof (window._bokeh_onload_callbacks) === \"undefined\" || force === true) {\n",
       "      window._bokeh_onload_callbacks = [];\n",
       "      window._bokeh_is_loading = undefined;\n",
       "    }\n",
       "  \n",
       "  \n",
       "    \n",
       "    if (typeof (window._bokeh_timeout) === \"undefined\" || force === true) {\n",
       "      window._bokeh_timeout = Date.now() + 0;\n",
       "      window._bokeh_failed_load = false;\n",
       "    }\n",
       "  \n",
       "    var NB_LOAD_WARNING = {'data': {'text/html':\n",
       "       \"<div style='background-color: #fdd'>\\n\"+\n",
       "       \"<p>\\n\"+\n",
       "       \"BokehJS does not appear to have successfully loaded. If loading BokehJS from CDN, this \\n\"+\n",
       "       \"may be due to a slow or bad network connection. Possible fixes:\\n\"+\n",
       "       \"</p>\\n\"+\n",
       "       \"<ul>\\n\"+\n",
       "       \"<li>re-rerun `output_notebook()` to attempt to load from CDN again, or</li>\\n\"+\n",
       "       \"<li>use INLINE resources instead, as so:</li>\\n\"+\n",
       "       \"</ul>\\n\"+\n",
       "       \"<code>\\n\"+\n",
       "       \"from bokeh.resources import INLINE\\n\"+\n",
       "       \"output_notebook(resources=INLINE)\\n\"+\n",
       "       \"</code>\\n\"+\n",
       "       \"</div>\"}};\n",
       "  \n",
       "    function display_loaded() {\n",
       "      if (window.Bokeh !== undefined) {\n",
       "        var el = document.getElementById(\"7cbedcdb-89df-4030-af20-4dbdc97fe19c\");\n",
       "        el.textContent = \"BokehJS \" + Bokeh.version + \" successfully loaded.\";\n",
       "      } else if (Date.now() < window._bokeh_timeout) {\n",
       "        setTimeout(display_loaded, 100)\n",
       "      }\n",
       "    }\n",
       "  \n",
       "    function run_callbacks() {\n",
       "      window._bokeh_onload_callbacks.forEach(function(callback) { callback() });\n",
       "      delete window._bokeh_onload_callbacks\n",
       "      console.info(\"Bokeh: all callbacks have finished\");\n",
       "    }\n",
       "  \n",
       "    function load_libs(js_urls, callback) {\n",
       "      window._bokeh_onload_callbacks.push(callback);\n",
       "      if (window._bokeh_is_loading > 0) {\n",
       "        console.log(\"Bokeh: BokehJS is being loaded, scheduling callback at\", now());\n",
       "        return null;\n",
       "      }\n",
       "      if (js_urls == null || js_urls.length === 0) {\n",
       "        run_callbacks();\n",
       "        return null;\n",
       "      }\n",
       "      console.log(\"Bokeh: BokehJS not loaded, scheduling load and callback at\", now());\n",
       "      window._bokeh_is_loading = js_urls.length;\n",
       "      for (var i = 0; i < js_urls.length; i++) {\n",
       "        var url = js_urls[i];\n",
       "        var s = document.createElement('script');\n",
       "        s.src = url;\n",
       "        s.async = false;\n",
       "        s.onreadystatechange = s.onload = function() {\n",
       "          window._bokeh_is_loading--;\n",
       "          if (window._bokeh_is_loading === 0) {\n",
       "            console.log(\"Bokeh: all BokehJS libraries loaded\");\n",
       "            run_callbacks()\n",
       "          }\n",
       "        };\n",
       "        s.onerror = function() {\n",
       "          console.warn(\"failed to load library \" + url);\n",
       "        };\n",
       "        console.log(\"Bokeh: injecting script tag for BokehJS library: \", url);\n",
       "        document.getElementsByTagName(\"head\")[0].appendChild(s);\n",
       "      }\n",
       "    };var element = document.getElementById(\"7cbedcdb-89df-4030-af20-4dbdc97fe19c\");\n",
       "    if (element == null) {\n",
       "      console.log(\"Bokeh: ERROR: autoload.js configured with elementid '7cbedcdb-89df-4030-af20-4dbdc97fe19c' but no matching script tag was found. \")\n",
       "      return false;\n",
       "    }\n",
       "  \n",
       "    var js_urls = [];\n",
       "  \n",
       "    var inline_js = [\n",
       "      function(Bokeh) {\n",
       "        (function() {\n",
       "          var fn = function() {\n",
       "            var docs_json = {\"9fc64153-91b3-4d11-a59f-fe95359686e2\":{\"roots\":{\"references\":[{\"attributes\":{\"data_source\":{\"id\":\"77ecc1d3-d42a-46f3-a4bc-cc9c4605104d\",\"type\":\"ColumnDataSource\"},\"glyph\":{\"id\":\"1c410e8f-0604-448a-b849-a6c5a2561e24\",\"type\":\"Rect\"},\"hover_glyph\":null,\"muted_glyph\":null},\"id\":\"94742b7a-fd7d-48d3-b1a8-a419e333a6d2\",\"type\":\"GlyphRenderer\"},{\"attributes\":{\"callback\":null,\"factors\":[\"Monday\",\"Tuesday\",\"Wednesday\",\"Thursday\",\"Friday\",\"Saturday\",\"Sunday\"]},\"id\":\"a9c83fbc-5818-483f-9571-978d8516dd1a\",\"type\":\"FactorRange\"},{\"attributes\":{},\"id\":\"672c35bb-8458-4066-9b3c-ecd046fdc526\",\"type\":\"CategoricalTicker\"},{\"attributes\":{\"callback\":null,\"column_names\":[\"line_color\",\"line_alpha\",\"color\",\"fill_alpha\",\"height\",\"width\",\"y\",\"x\",\"label\"],\"data\":{\"Day\":[\"Weekday\"],\"Day_Of_Week\":[\"Tuesday\"],\"chart_index\":[{\"Day\":\"Weekday\",\"Day_Of_Week\":\"Tuesday\"}],\"color\":[\"#3182bd\"],\"fill_alpha\":[0.8],\"height\":[101204.0],\"label\":[{\"Day\":\"Weekday\",\"Day_Of_Week\":\"Tuesday\"}],\"line_alpha\":[1.0],\"line_color\":[\"white\"],\"width\":[0.8],\"x\":[\"Tuesday\"],\"y\":[50602.0]}},\"id\":\"d8c0954f-3ff2-4e48-bd3b-087efadcc8a7\",\"type\":\"ColumnDataSource\"},{\"attributes\":{\"axis_label\":\"Day of the Week\",\"formatter\":{\"id\":\"ded66b9f-f31d-4eb0-88ec-70e7a9c2f999\",\"type\":\"CategoricalTickFormatter\"},\"major_label_orientation\":0.7853981633974483,\"plot\":{\"id\":\"14b360a0-8bb1-4378-84b6-40ec9835e9c0\",\"subtype\":\"Chart\",\"type\":\"Plot\"},\"ticker\":{\"id\":\"672c35bb-8458-4066-9b3c-ecd046fdc526\",\"type\":\"CategoricalTicker\"}},\"id\":\"ee2de82e-e4f8-4b59-b46a-02643cd0fee9\",\"type\":\"CategoricalAxis\"},{\"attributes\":{\"overlay\":{\"id\":\"f23ee808-8099-4c6e-a924-9a5aebf3fb00\",\"type\":\"BoxAnnotation\"},\"plot\":{\"id\":\"14b360a0-8bb1-4378-84b6-40ec9835e9c0\",\"subtype\":\"Chart\",\"type\":\"Plot\"}},\"id\":\"894ab3af-797e-4f89-9525-16029ecbb043\",\"type\":\"BoxZoomTool\"},{\"attributes\":{\"data_source\":{\"id\":\"d8c0954f-3ff2-4e48-bd3b-087efadcc8a7\",\"type\":\"ColumnDataSource\"},\"glyph\":{\"id\":\"e1a21784-4251-405f-9d70-021c1f56bda5\",\"type\":\"Rect\"},\"hover_glyph\":null,\"muted_glyph\":null},\"id\":\"96f71c7c-e038-494a-bb90-73278c5acbb6\",\"type\":\"GlyphRenderer\"},{\"attributes\":{},\"id\":\"ded66b9f-f31d-4eb0-88ec-70e7a9c2f999\",\"type\":\"CategoricalTickFormatter\"},{\"attributes\":{\"data_source\":{\"id\":\"3f831d68-661e-4a41-9150-18593e1014e7\",\"type\":\"ColumnDataSource\"},\"glyph\":{\"id\":\"b38ac0c1-7547-43cb-8bfd-a132bb39c8d2\",\"type\":\"Rect\"},\"hover_glyph\":null,\"muted_glyph\":null},\"id\":\"4ab98c54-2fe0-48e7-a0b0-1cec4e092ebf\",\"type\":\"GlyphRenderer\"},{\"attributes\":{\"plot\":null,\"text\":null},\"id\":\"f0b20e55-22b9-4c01-9e76-a6a11179fe3c\",\"type\":\"Title\"},{\"attributes\":{\"plot\":{\"id\":\"14b360a0-8bb1-4378-84b6-40ec9835e9c0\",\"subtype\":\"Chart\",\"type\":\"Plot\"}},\"id\":\"0b577355-8bee-4be6-be52-ecebb8595ef0\",\"type\":\"HelpTool\"},{\"attributes\":{\"dimension\":1,\"plot\":{\"id\":\"14b360a0-8bb1-4378-84b6-40ec9835e9c0\",\"subtype\":\"Chart\",\"type\":\"Plot\"},\"ticker\":{\"id\":\"de4e072d-9319-4677-a45a-8e29f505a057\",\"type\":\"BasicTicker\"}},\"id\":\"94945b00-427b-43b8-80d5-65e62ac5dcaf\",\"type\":\"Grid\"},{\"attributes\":{\"data_source\":{\"id\":\"4bc3ee2e-1964-4fcd-b92d-304dc5aed186\",\"type\":\"ColumnDataSource\"},\"glyph\":{\"id\":\"1ef2cb99-ff42-496b-a943-8704f2fd57b2\",\"type\":\"Rect\"},\"hover_glyph\":null,\"muted_glyph\":null},\"id\":\"ec69e4d7-cbc5-4d51-9eeb-0a1e546b82cd\",\"type\":\"GlyphRenderer\"},{\"attributes\":{},\"id\":\"9a097a7f-a43c-4be0-b97e-6da2b93b5b06\",\"type\":\"BasicTickFormatter\"},{\"attributes\":{\"callback\":null,\"column_names\":[\"line_color\",\"line_alpha\",\"color\",\"fill_alpha\",\"height\",\"width\",\"y\",\"x\",\"label\"],\"data\":{\"Day\":[\"Weekend\"],\"Day_Of_Week\":[\"Saturday\"],\"chart_index\":[{\"Day\":\"Weekend\",\"Day_Of_Week\":\"Saturday\"}],\"color\":[\"#9ecae1\"],\"fill_alpha\":[0.8],\"height\":[57183.0],\"label\":[{\"Day\":\"Weekend\",\"Day_Of_Week\":\"Saturday\"}],\"line_alpha\":[1.0],\"line_color\":[\"white\"],\"width\":[0.8],\"x\":[\"Saturday\"],\"y\":[28591.5]}},\"id\":\"3f831d68-661e-4a41-9150-18593e1014e7\",\"type\":\"ColumnDataSource\"},{\"attributes\":{\"callback\":null,\"column_names\":[\"line_color\",\"line_alpha\",\"color\",\"fill_alpha\",\"height\",\"width\",\"y\",\"x\",\"label\"],\"data\":{\"Day\":[\"Weekend\"],\"Day_Of_Week\":[\"Sunday\"],\"chart_index\":[{\"Day\":\"Weekend\",\"Day_Of_Week\":\"Sunday\"}],\"color\":[\"#9ecae1\"],\"fill_alpha\":[0.8],\"height\":[59907.0],\"label\":[{\"Day\":\"Weekend\",\"Day_Of_Week\":\"Sunday\"}],\"line_alpha\":[1.0],\"line_color\":[\"white\"],\"width\":[0.8],\"x\":[\"Sunday\"],\"y\":[29953.5]}},\"id\":\"4bc3ee2e-1964-4fcd-b92d-304dc5aed186\",\"type\":\"ColumnDataSource\"},{\"attributes\":{\"plot\":{\"id\":\"14b360a0-8bb1-4378-84b6-40ec9835e9c0\",\"subtype\":\"Chart\",\"type\":\"Plot\"}},\"id\":\"488232a5-22ab-4b9c-bb74-a2953bc4934a\",\"type\":\"SaveTool\"},{\"attributes\":{},\"id\":\"752c1204-6977-4d7e-8599-be0413258ccd\",\"type\":\"ToolEvents\"},{\"attributes\":{\"callback\":null,\"column_names\":[\"line_color\",\"line_alpha\",\"color\",\"fill_alpha\",\"height\",\"width\",\"y\",\"x\",\"label\"],\"data\":{\"Day\":[\"Weekday\"],\"Day_Of_Week\":[\"Wednesday\"],\"chart_index\":[{\"Day\":\"Weekday\",\"Day_Of_Week\":\"Wednesday\"}],\"color\":[\"#3182bd\"],\"fill_alpha\":[0.8],\"height\":[103563.0],\"label\":[{\"Day\":\"Weekday\",\"Day_Of_Week\":\"Wednesday\"}],\"line_alpha\":[1.0],\"line_color\":[\"white\"],\"width\":[0.8],\"x\":[\"Wednesday\"],\"y\":[51781.5]}},\"id\":\"cf00608c-98d8-4310-bac9-1123704ca1e7\",\"type\":\"ColumnDataSource\"},{\"attributes\":{\"below\":[{\"id\":\"ee2de82e-e4f8-4b59-b46a-02643cd0fee9\",\"type\":\"CategoricalAxis\"}],\"css_classes\":null,\"left\":[{\"id\":\"6f89fb82-8808-4be5-91e3-791002758840\",\"type\":\"LinearAxis\"}],\"renderers\":[{\"id\":\"f23ee808-8099-4c6e-a924-9a5aebf3fb00\",\"type\":\"BoxAnnotation\"},{\"id\":\"94742b7a-fd7d-48d3-b1a8-a419e333a6d2\",\"type\":\"GlyphRenderer\"},{\"id\":\"96f71c7c-e038-494a-bb90-73278c5acbb6\",\"type\":\"GlyphRenderer\"},{\"id\":\"565c1c1d-2314-4dbb-bf56-3942b54a00bc\",\"type\":\"GlyphRenderer\"},{\"id\":\"afeef6e2-38b1-445d-8f8b-d9573f8cc1b1\",\"type\":\"GlyphRenderer\"},{\"id\":\"bf62ca58-71f5-4ae1-9c5b-81e180aa23da\",\"type\":\"GlyphRenderer\"},{\"id\":\"4ab98c54-2fe0-48e7-a0b0-1cec4e092ebf\",\"type\":\"GlyphRenderer\"},{\"id\":\"ec69e4d7-cbc5-4d51-9eeb-0a1e546b82cd\",\"type\":\"GlyphRenderer\"},{\"id\":\"ee2de82e-e4f8-4b59-b46a-02643cd0fee9\",\"type\":\"CategoricalAxis\"},{\"id\":\"6f89fb82-8808-4be5-91e3-791002758840\",\"type\":\"LinearAxis\"},{\"id\":\"94945b00-427b-43b8-80d5-65e62ac5dcaf\",\"type\":\"Grid\"}],\"title\":{\"id\":\"f0b20e55-22b9-4c01-9e76-a6a11179fe3c\",\"type\":\"Title\"},\"tool_events\":{\"id\":\"752c1204-6977-4d7e-8599-be0413258ccd\",\"type\":\"ToolEvents\"},\"toolbar\":{\"id\":\"f6d2baf8-087d-46a0-a5bd-044f4aa151f9\",\"type\":\"Toolbar\"},\"x_mapper_type\":\"auto\",\"x_range\":{\"id\":\"a9c83fbc-5818-483f-9571-978d8516dd1a\",\"type\":\"FactorRange\"},\"y_mapper_type\":\"auto\",\"y_range\":{\"id\":\"6559bcf5-d37c-4f62-873c-e73ff7140f7d\",\"type\":\"Range1d\"}},\"id\":\"14b360a0-8bb1-4378-84b6-40ec9835e9c0\",\"subtype\":\"Chart\",\"type\":\"Plot\"},{\"attributes\":{\"callback\":null,\"column_names\":[\"line_color\",\"line_alpha\",\"color\",\"fill_alpha\",\"height\",\"width\",\"y\",\"x\",\"label\"],\"data\":{\"Day\":[\"Weekday\"],\"Day_Of_Week\":[\"Friday\"],\"chart_index\":[{\"Day\":\"Weekday\",\"Day_Of_Week\":\"Friday\"}],\"color\":[\"#3182bd\"],\"fill_alpha\":[0.8],\"height\":[91197.0],\"label\":[{\"Day\":\"Weekday\",\"Day_Of_Week\":\"Friday\"}],\"line_alpha\":[1.0],\"line_color\":[\"white\"],\"width\":[0.8],\"x\":[\"Friday\"],\"y\":[45598.5]}},\"id\":\"1ea9c130-b47f-42ae-ac05-fd0ef5599317\",\"type\":\"ColumnDataSource\"},{\"attributes\":{\"callback\":null,\"end\":108741.15},\"id\":\"6559bcf5-d37c-4f62-873c-e73ff7140f7d\",\"type\":\"Range1d\"},{\"attributes\":{\"fill_alpha\":{\"field\":\"fill_alpha\"},\"fill_color\":{\"field\":\"color\"},\"height\":{\"field\":\"height\",\"units\":\"data\"},\"line_color\":{\"field\":\"line_color\"},\"width\":{\"field\":\"width\",\"units\":\"data\"},\"x\":{\"field\":\"x\"},\"y\":{\"field\":\"y\"}},\"id\":\"63964cd7-a911-4b82-962b-4a7918372fba\",\"type\":\"Rect\"},{\"attributes\":{\"active_drag\":\"auto\",\"active_scroll\":\"auto\",\"active_tap\":\"auto\",\"tools\":[{\"id\":\"12300566-317d-4291-83da-f4893cfaf626\",\"type\":\"PanTool\"},{\"id\":\"6389c52e-a2e6-41a5-a552-7b9c8812a6e5\",\"type\":\"WheelZoomTool\"},{\"id\":\"894ab3af-797e-4f89-9525-16029ecbb043\",\"type\":\"BoxZoomTool\"},{\"id\":\"488232a5-22ab-4b9c-bb74-a2953bc4934a\",\"type\":\"SaveTool\"},{\"id\":\"fbf7ef35-e5d5-425a-99f5-f7f9a06248ec\",\"type\":\"ResetTool\"},{\"id\":\"0b577355-8bee-4be6-be52-ecebb8595ef0\",\"type\":\"HelpTool\"}]},\"id\":\"f6d2baf8-087d-46a0-a5bd-044f4aa151f9\",\"type\":\"Toolbar\"},{\"attributes\":{\"fill_alpha\":{\"field\":\"fill_alpha\"},\"fill_color\":{\"field\":\"color\"},\"height\":{\"field\":\"height\",\"units\":\"data\"},\"line_color\":{\"field\":\"line_color\"},\"width\":{\"field\":\"width\",\"units\":\"data\"},\"x\":{\"field\":\"x\"},\"y\":{\"field\":\"y\"}},\"id\":\"2d1d32e4-c738-454e-8181-f6cce659cab1\",\"type\":\"Rect\"},{\"attributes\":{\"fill_alpha\":{\"field\":\"fill_alpha\"},\"fill_color\":{\"field\":\"color\"},\"height\":{\"field\":\"height\",\"units\":\"data\"},\"line_color\":{\"field\":\"line_color\"},\"width\":{\"field\":\"width\",\"units\":\"data\"},\"x\":{\"field\":\"x\"},\"y\":{\"field\":\"y\"}},\"id\":\"b38ac0c1-7547-43cb-8bfd-a132bb39c8d2\",\"type\":\"Rect\"},{\"attributes\":{\"plot\":{\"id\":\"14b360a0-8bb1-4378-84b6-40ec9835e9c0\",\"subtype\":\"Chart\",\"type\":\"Plot\"}},\"id\":\"fbf7ef35-e5d5-425a-99f5-f7f9a06248ec\",\"type\":\"ResetTool\"},{\"attributes\":{\"fill_alpha\":{\"field\":\"fill_alpha\"},\"fill_color\":{\"field\":\"color\"},\"height\":{\"field\":\"height\",\"units\":\"data\"},\"line_color\":{\"field\":\"line_color\"},\"width\":{\"field\":\"width\",\"units\":\"data\"},\"x\":{\"field\":\"x\"},\"y\":{\"field\":\"y\"}},\"id\":\"1c410e8f-0604-448a-b849-a6c5a2561e24\",\"type\":\"Rect\"},{\"attributes\":{\"plot\":{\"id\":\"14b360a0-8bb1-4378-84b6-40ec9835e9c0\",\"subtype\":\"Chart\",\"type\":\"Plot\"}},\"id\":\"12300566-317d-4291-83da-f4893cfaf626\",\"type\":\"PanTool\"},{\"attributes\":{},\"id\":\"de4e072d-9319-4677-a45a-8e29f505a057\",\"type\":\"BasicTicker\"},{\"attributes\":{\"plot\":{\"id\":\"14b360a0-8bb1-4378-84b6-40ec9835e9c0\",\"subtype\":\"Chart\",\"type\":\"Plot\"}},\"id\":\"6389c52e-a2e6-41a5-a552-7b9c8812a6e5\",\"type\":\"WheelZoomTool\"},{\"attributes\":{\"data_source\":{\"id\":\"5e7075b9-d8e3-4359-9601-1efba0035973\",\"type\":\"ColumnDataSource\"},\"glyph\":{\"id\":\"63964cd7-a911-4b82-962b-4a7918372fba\",\"type\":\"Rect\"},\"hover_glyph\":null,\"muted_glyph\":null},\"id\":\"afeef6e2-38b1-445d-8f8b-d9573f8cc1b1\",\"type\":\"GlyphRenderer\"},{\"attributes\":{\"axis_label\":\"Number of Questions asked\",\"formatter\":{\"id\":\"9a097a7f-a43c-4be0-b97e-6da2b93b5b06\",\"type\":\"BasicTickFormatter\"},\"plot\":{\"id\":\"14b360a0-8bb1-4378-84b6-40ec9835e9c0\",\"subtype\":\"Chart\",\"type\":\"Plot\"},\"ticker\":{\"id\":\"de4e072d-9319-4677-a45a-8e29f505a057\",\"type\":\"BasicTicker\"}},\"id\":\"6f89fb82-8808-4be5-91e3-791002758840\",\"type\":\"LinearAxis\"},{\"attributes\":{\"data_source\":{\"id\":\"cf00608c-98d8-4310-bac9-1123704ca1e7\",\"type\":\"ColumnDataSource\"},\"glyph\":{\"id\":\"cbf17227-2325-4e81-acae-ccebf5ce7baf\",\"type\":\"Rect\"},\"hover_glyph\":null,\"muted_glyph\":null},\"id\":\"565c1c1d-2314-4dbb-bf56-3942b54a00bc\",\"type\":\"GlyphRenderer\"},{\"attributes\":{\"fill_alpha\":{\"field\":\"fill_alpha\"},\"fill_color\":{\"field\":\"color\"},\"height\":{\"field\":\"height\",\"units\":\"data\"},\"line_color\":{\"field\":\"line_color\"},\"width\":{\"field\":\"width\",\"units\":\"data\"},\"x\":{\"field\":\"x\"},\"y\":{\"field\":\"y\"}},\"id\":\"e1a21784-4251-405f-9d70-021c1f56bda5\",\"type\":\"Rect\"},{\"attributes\":{\"data_source\":{\"id\":\"1ea9c130-b47f-42ae-ac05-fd0ef5599317\",\"type\":\"ColumnDataSource\"},\"glyph\":{\"id\":\"2d1d32e4-c738-454e-8181-f6cce659cab1\",\"type\":\"Rect\"},\"hover_glyph\":null,\"muted_glyph\":null},\"id\":\"bf62ca58-71f5-4ae1-9c5b-81e180aa23da\",\"type\":\"GlyphRenderer\"},{\"attributes\":{\"bottom_units\":\"screen\",\"fill_alpha\":{\"value\":0.5},\"fill_color\":{\"value\":\"lightgrey\"},\"left_units\":\"screen\",\"level\":\"overlay\",\"line_alpha\":{\"value\":1.0},\"line_color\":{\"value\":\"black\"},\"line_dash\":[4,4],\"line_width\":{\"value\":2},\"plot\":null,\"render_mode\":\"css\",\"right_units\":\"screen\",\"top_units\":\"screen\"},\"id\":\"f23ee808-8099-4c6e-a924-9a5aebf3fb00\",\"type\":\"BoxAnnotation\"},{\"attributes\":{\"callback\":null,\"column_names\":[\"line_color\",\"line_alpha\",\"color\",\"fill_alpha\",\"height\",\"width\",\"y\",\"x\",\"label\"],\"data\":{\"Day\":[\"Weekday\"],\"Day_Of_Week\":[\"Thursday\"],\"chart_index\":[{\"Day\":\"Weekday\",\"Day_Of_Week\":\"Thursday\"}],\"color\":[\"#3182bd\"],\"fill_alpha\":[0.8],\"height\":[101222.0],\"label\":[{\"Day\":\"Weekday\",\"Day_Of_Week\":\"Thursday\"}],\"line_alpha\":[1.0],\"line_color\":[\"white\"],\"width\":[0.8],\"x\":[\"Thursday\"],\"y\":[50611.0]}},\"id\":\"5e7075b9-d8e3-4359-9601-1efba0035973\",\"type\":\"ColumnDataSource\"},{\"attributes\":{\"fill_alpha\":{\"field\":\"fill_alpha\"},\"fill_color\":{\"field\":\"color\"},\"height\":{\"field\":\"height\",\"units\":\"data\"},\"line_color\":{\"field\":\"line_color\"},\"width\":{\"field\":\"width\",\"units\":\"data\"},\"x\":{\"field\":\"x\"},\"y\":{\"field\":\"y\"}},\"id\":\"cbf17227-2325-4e81-acae-ccebf5ce7baf\",\"type\":\"Rect\"},{\"attributes\":{\"fill_alpha\":{\"field\":\"fill_alpha\"},\"fill_color\":{\"field\":\"color\"},\"height\":{\"field\":\"height\",\"units\":\"data\"},\"line_color\":{\"field\":\"line_color\"},\"width\":{\"field\":\"width\",\"units\":\"data\"},\"x\":{\"field\":\"x\"},\"y\":{\"field\":\"y\"}},\"id\":\"1ef2cb99-ff42-496b-a943-8704f2fd57b2\",\"type\":\"Rect\"},{\"attributes\":{\"callback\":null,\"column_names\":[\"line_color\",\"line_alpha\",\"color\",\"fill_alpha\",\"height\",\"width\",\"y\",\"x\",\"label\"],\"data\":{\"Day\":[\"Weekday\"],\"Day_Of_Week\":[\"Monday\"],\"chart_index\":[{\"Day\":\"Weekday\",\"Day_Of_Week\":\"Monday\"}],\"color\":[\"#3182bd\"],\"fill_alpha\":[0.8],\"height\":[93006.0],\"label\":[{\"Day\":\"Weekday\",\"Day_Of_Week\":\"Monday\"}],\"line_alpha\":[1.0],\"line_color\":[\"white\"],\"width\":[0.8],\"x\":[\"Monday\"],\"y\":[46503.0]}},\"id\":\"77ecc1d3-d42a-46f3-a4bc-cc9c4605104d\",\"type\":\"ColumnDataSource\"}],\"root_ids\":[\"14b360a0-8bb1-4378-84b6-40ec9835e9c0\"]},\"title\":\"Bokeh Application\",\"version\":\"0.12.5\"}};\n",
       "            var render_items = [{\"docid\":\"9fc64153-91b3-4d11-a59f-fe95359686e2\",\"elementid\":\"7cbedcdb-89df-4030-af20-4dbdc97fe19c\",\"modelid\":\"14b360a0-8bb1-4378-84b6-40ec9835e9c0\"}];\n",
       "            \n",
       "            Bokeh.embed.embed_items(docs_json, render_items);\n",
       "          };\n",
       "          if (document.readyState != \"loading\") fn();\n",
       "          else document.addEventListener(\"DOMContentLoaded\", fn);\n",
       "        })();\n",
       "      },\n",
       "      function(Bokeh) {\n",
       "      }\n",
       "    ];\n",
       "  \n",
       "    function run_inline_js() {\n",
       "      \n",
       "      if ((window.Bokeh !== undefined) || (force === true)) {\n",
       "        for (var i = 0; i < inline_js.length; i++) {\n",
       "          inline_js[i](window.Bokeh);\n",
       "        }if (force === true) {\n",
       "          display_loaded();\n",
       "        }} else if (Date.now() < window._bokeh_timeout) {\n",
       "        setTimeout(run_inline_js, 100);\n",
       "      } else if (!window._bokeh_failed_load) {\n",
       "        console.log(\"Bokeh: BokehJS failed to load within specified timeout.\");\n",
       "        window._bokeh_failed_load = true;\n",
       "      } else if (force !== true) {\n",
       "        var cell = $(document.getElementById(\"7cbedcdb-89df-4030-af20-4dbdc97fe19c\")).parents('.cell').data().cell;\n",
       "        cell.output_area.append_execute_result(NB_LOAD_WARNING)\n",
       "      }\n",
       "  \n",
       "    }\n",
       "  \n",
       "    if (window._bokeh_is_loading === 0) {\n",
       "      console.log(\"Bokeh: BokehJS loaded, going straight to plotting\");\n",
       "      run_inline_js();\n",
       "    } else {\n",
       "      load_libs(js_urls, function() {\n",
       "        console.log(\"Bokeh: BokehJS plotting callback run at\", now());\n",
       "        run_inline_js();\n",
       "      });\n",
       "    }\n",
       "  }(this));\n",
       "</script>"
      ]
     },
     "metadata": {},
     "output_type": "display_data"
    }
   ],
   "source": [
    "Number_Of_Questions_Weekday = Q.groupby([\"Start Weekday\", \"Day_Of_Week\"], as_index=False).Id.count()  \n",
    "#group the data by day, add index and count the number of question Ids \n",
    "\n",
    "Number_Of_Questions_Weekday[\"Day\"] = \"Weekday\"\n",
    "#assign weekday designation to each day\n",
    "for i in range(5,7):\n",
    "    Number_Of_Questions_Weekday[\"Day\"][i] = \"Weekend\" \n",
    "#separate weekend dates from remaining weekdays\n",
    "\n",
    "from bokeh.io import output_notebook, output_file  \n",
    "#from bokeh import specific functions\n",
    "from bokeh.io import show\n",
    "from bokeh.plotting import figure\n",
    "from bokeh.models import Range1d, HoverTool\n",
    "from bokeh.charts import Bar, Line\n",
    "from bokeh.charts.attributes import ColorAttr, CatAttr\n",
    "from bokeh.charts.builders.bar_builder import BarBuilder\n",
    "from bokeh.palettes import brewer\n",
    "\n",
    "output_notebook()  \n",
    "#tell bokeh to output within this notebook\n",
    "\n",
    "palette = brewer[\"Blues\"][3]  \n",
    "#change color palette to blue\n",
    "\n",
    "\n",
    "p = Bar(Number_Of_Questions_Weekday ,values=\"Id\",label=CatAttr(columns=['Day_Of_Week'], sort=False),  #plot the barchart\n",
    "        xlabel= \"Day of the Week\", ylabel=\"Number of Questions asked\", \n",
    "        color = \"Day\",legend=False,palette=palette)\n",
    "show(p)  #create a bar plot for each day of the week"
   ]
  },
  {
   "cell_type": "code",
   "execution_count": 7,
   "metadata": {},
   "outputs": [
    {
     "data": {
      "text/html": [
       "<div>\n",
       "<style>\n",
       "    .dataframe thead tr:only-child th {\n",
       "        text-align: right;\n",
       "    }\n",
       "\n",
       "    .dataframe thead th {\n",
       "        text-align: left;\n",
       "    }\n",
       "\n",
       "    .dataframe tbody tr th {\n",
       "        vertical-align: top;\n",
       "    }\n",
       "</style>\n",
       "<table border=\"1\" class=\"dataframe\">\n",
       "  <thead>\n",
       "    <tr style=\"text-align: right;\">\n",
       "      <th></th>\n",
       "      <th>Start Weekday</th>\n",
       "      <th>Day_Of_Week</th>\n",
       "      <th>Id</th>\n",
       "      <th>Day</th>\n",
       "    </tr>\n",
       "  </thead>\n",
       "  <tbody>\n",
       "    <tr>\n",
       "      <th>0</th>\n",
       "      <td>0</td>\n",
       "      <td>Monday</td>\n",
       "      <td>93006</td>\n",
       "      <td>Weekday</td>\n",
       "    </tr>\n",
       "    <tr>\n",
       "      <th>1</th>\n",
       "      <td>1</td>\n",
       "      <td>Tuesday</td>\n",
       "      <td>101204</td>\n",
       "      <td>Weekday</td>\n",
       "    </tr>\n",
       "    <tr>\n",
       "      <th>2</th>\n",
       "      <td>2</td>\n",
       "      <td>Wednesday</td>\n",
       "      <td>103563</td>\n",
       "      <td>Weekday</td>\n",
       "    </tr>\n",
       "    <tr>\n",
       "      <th>3</th>\n",
       "      <td>3</td>\n",
       "      <td>Thursday</td>\n",
       "      <td>101222</td>\n",
       "      <td>Weekday</td>\n",
       "    </tr>\n",
       "    <tr>\n",
       "      <th>4</th>\n",
       "      <td>4</td>\n",
       "      <td>Friday</td>\n",
       "      <td>91197</td>\n",
       "      <td>Weekday</td>\n",
       "    </tr>\n",
       "    <tr>\n",
       "      <th>5</th>\n",
       "      <td>5</td>\n",
       "      <td>Saturday</td>\n",
       "      <td>57183</td>\n",
       "      <td>Weekend</td>\n",
       "    </tr>\n",
       "    <tr>\n",
       "      <th>6</th>\n",
       "      <td>6</td>\n",
       "      <td>Sunday</td>\n",
       "      <td>59907</td>\n",
       "      <td>Weekend</td>\n",
       "    </tr>\n",
       "  </tbody>\n",
       "</table>\n",
       "</div>"
      ],
      "text/plain": [
       "   Start Weekday Day_Of_Week      Id      Day\n",
       "0              0      Monday   93006  Weekday\n",
       "1              1     Tuesday  101204  Weekday\n",
       "2              2   Wednesday  103563  Weekday\n",
       "3              3    Thursday  101222  Weekday\n",
       "4              4      Friday   91197  Weekday\n",
       "5              5    Saturday   57183  Weekend\n",
       "6              6      Sunday   59907  Weekend"
      ]
     },
     "execution_count": 7,
     "metadata": {},
     "output_type": "execute_result"
    }
   ],
   "source": [
    "Number_Of_Questions_Weekday  \n",
    "#count for each day of the week"
   ]
  },
  {
   "cell_type": "code",
   "execution_count": 8,
   "metadata": {},
   "outputs": [
    {
     "data": {
      "text/html": [
       "\n",
       "\n",
       "    <div class=\"bk-root\">\n",
       "        <div class=\"bk-plotdiv\" id=\"fc4faf83-a4e5-4b13-9eac-336bfa5aca62\"></div>\n",
       "    </div>\n",
       "<script type=\"text/javascript\">\n",
       "  \n",
       "  (function(global) {\n",
       "    function now() {\n",
       "      return new Date();\n",
       "    }\n",
       "  \n",
       "    var force = false;\n",
       "  \n",
       "    if (typeof (window._bokeh_onload_callbacks) === \"undefined\" || force === true) {\n",
       "      window._bokeh_onload_callbacks = [];\n",
       "      window._bokeh_is_loading = undefined;\n",
       "    }\n",
       "  \n",
       "  \n",
       "    \n",
       "    if (typeof (window._bokeh_timeout) === \"undefined\" || force === true) {\n",
       "      window._bokeh_timeout = Date.now() + 0;\n",
       "      window._bokeh_failed_load = false;\n",
       "    }\n",
       "  \n",
       "    var NB_LOAD_WARNING = {'data': {'text/html':\n",
       "       \"<div style='background-color: #fdd'>\\n\"+\n",
       "       \"<p>\\n\"+\n",
       "       \"BokehJS does not appear to have successfully loaded. If loading BokehJS from CDN, this \\n\"+\n",
       "       \"may be due to a slow or bad network connection. Possible fixes:\\n\"+\n",
       "       \"</p>\\n\"+\n",
       "       \"<ul>\\n\"+\n",
       "       \"<li>re-rerun `output_notebook()` to attempt to load from CDN again, or</li>\\n\"+\n",
       "       \"<li>use INLINE resources instead, as so:</li>\\n\"+\n",
       "       \"</ul>\\n\"+\n",
       "       \"<code>\\n\"+\n",
       "       \"from bokeh.resources import INLINE\\n\"+\n",
       "       \"output_notebook(resources=INLINE)\\n\"+\n",
       "       \"</code>\\n\"+\n",
       "       \"</div>\"}};\n",
       "  \n",
       "    function display_loaded() {\n",
       "      if (window.Bokeh !== undefined) {\n",
       "        var el = document.getElementById(\"fc4faf83-a4e5-4b13-9eac-336bfa5aca62\");\n",
       "        el.textContent = \"BokehJS \" + Bokeh.version + \" successfully loaded.\";\n",
       "      } else if (Date.now() < window._bokeh_timeout) {\n",
       "        setTimeout(display_loaded, 100)\n",
       "      }\n",
       "    }\n",
       "  \n",
       "    function run_callbacks() {\n",
       "      window._bokeh_onload_callbacks.forEach(function(callback) { callback() });\n",
       "      delete window._bokeh_onload_callbacks\n",
       "      console.info(\"Bokeh: all callbacks have finished\");\n",
       "    }\n",
       "  \n",
       "    function load_libs(js_urls, callback) {\n",
       "      window._bokeh_onload_callbacks.push(callback);\n",
       "      if (window._bokeh_is_loading > 0) {\n",
       "        console.log(\"Bokeh: BokehJS is being loaded, scheduling callback at\", now());\n",
       "        return null;\n",
       "      }\n",
       "      if (js_urls == null || js_urls.length === 0) {\n",
       "        run_callbacks();\n",
       "        return null;\n",
       "      }\n",
       "      console.log(\"Bokeh: BokehJS not loaded, scheduling load and callback at\", now());\n",
       "      window._bokeh_is_loading = js_urls.length;\n",
       "      for (var i = 0; i < js_urls.length; i++) {\n",
       "        var url = js_urls[i];\n",
       "        var s = document.createElement('script');\n",
       "        s.src = url;\n",
       "        s.async = false;\n",
       "        s.onreadystatechange = s.onload = function() {\n",
       "          window._bokeh_is_loading--;\n",
       "          if (window._bokeh_is_loading === 0) {\n",
       "            console.log(\"Bokeh: all BokehJS libraries loaded\");\n",
       "            run_callbacks()\n",
       "          }\n",
       "        };\n",
       "        s.onerror = function() {\n",
       "          console.warn(\"failed to load library \" + url);\n",
       "        };\n",
       "        console.log(\"Bokeh: injecting script tag for BokehJS library: \", url);\n",
       "        document.getElementsByTagName(\"head\")[0].appendChild(s);\n",
       "      }\n",
       "    };var element = document.getElementById(\"fc4faf83-a4e5-4b13-9eac-336bfa5aca62\");\n",
       "    if (element == null) {\n",
       "      console.log(\"Bokeh: ERROR: autoload.js configured with elementid 'fc4faf83-a4e5-4b13-9eac-336bfa5aca62' but no matching script tag was found. \")\n",
       "      return false;\n",
       "    }\n",
       "  \n",
       "    var js_urls = [];\n",
       "  \n",
       "    var inline_js = [\n",
       "      function(Bokeh) {\n",
       "        (function() {\n",
       "          var fn = function() {\n",
       "            var docs_json = {\"03fbe076-ab95-4ec3-8250-84631e4756c8\":{\"roots\":{\"references\":[{\"attributes\":{\"callback\":null,\"column_names\":[\"x_values\",\"y_values\"],\"data\":{\"Day_Of_Week\":[\"Monday\",\"Monday\",\"Monday\",\"Monday\",\"Monday\",\"Monday\",\"Monday\",\"Monday\",\"Monday\",\"Monday\",\"Monday\",\"Monday\",\"Monday\",\"Monday\",\"Monday\",\"Monday\",\"Monday\",\"Monday\",\"Monday\",\"Monday\",\"Monday\",\"Monday\",\"Monday\",\"Monday\"],\"chart_index\":[{\"Day_Of_Week\":\"Monday\"},{\"Day_Of_Week\":\"Monday\"},{\"Day_Of_Week\":\"Monday\"},{\"Day_Of_Week\":\"Monday\"},{\"Day_Of_Week\":\"Monday\"},{\"Day_Of_Week\":\"Monday\"},{\"Day_Of_Week\":\"Monday\"},{\"Day_Of_Week\":\"Monday\"},{\"Day_Of_Week\":\"Monday\"},{\"Day_Of_Week\":\"Monday\"},{\"Day_Of_Week\":\"Monday\"},{\"Day_Of_Week\":\"Monday\"},{\"Day_Of_Week\":\"Monday\"},{\"Day_Of_Week\":\"Monday\"},{\"Day_Of_Week\":\"Monday\"},{\"Day_Of_Week\":\"Monday\"},{\"Day_Of_Week\":\"Monday\"},{\"Day_Of_Week\":\"Monday\"},{\"Day_Of_Week\":\"Monday\"},{\"Day_Of_Week\":\"Monday\"},{\"Day_Of_Week\":\"Monday\"},{\"Day_Of_Week\":\"Monday\"},{\"Day_Of_Week\":\"Monday\"},{\"Day_Of_Week\":\"Monday\"}],\"x_values\":[0,1,2,3,4,5,6,7,8,9,10,11,12,13,14,15,16,17,18,19,20,21,22,23],\"y_values\":[2418,2433,2459,2395,2300,2313,2755,3096,3401,4050,4063,4025,4129,4650,5262,5480,5188,5048,5101,5028,5048,4766,4035,3563]}},\"id\":\"4045e81d-3c8f-4481-9aae-13672464eca5\",\"type\":\"ColumnDataSource\"},{\"attributes\":{\"plot\":{\"id\":\"9482465d-4bd2-4ebb-9e2d-337e8274e936\",\"subtype\":\"Chart\",\"type\":\"Plot\"}},\"id\":\"2095c899-5189-4d0d-a6a8-e6d5d73f6b08\",\"type\":\"PanTool\"},{\"attributes\":{\"plot\":{\"id\":\"9482465d-4bd2-4ebb-9e2d-337e8274e936\",\"subtype\":\"Chart\",\"type\":\"Plot\"},\"ticker\":{\"id\":\"784c1729-2ac0-45b5-9344-c421a5b02265\",\"type\":\"BasicTicker\"}},\"id\":\"4a212771-e9c1-40cb-b7a5-7595ef333bab\",\"type\":\"Grid\"},{\"attributes\":{\"line_color\":{\"value\":\"yellow\"},\"line_width\":{\"value\":2},\"x\":{\"field\":\"x_values\"},\"y\":{\"field\":\"y_values\"}},\"id\":\"c1c7c248-6c24-45e8-9b47-26aca07e06b2\",\"type\":\"Line\"},{\"attributes\":{\"line_color\":{\"value\":\"blue\"},\"line_width\":{\"value\":2},\"x\":{\"field\":\"x_values\"},\"y\":{\"field\":\"y_values\"}},\"id\":\"d34ab64c-62dc-4e8f-a6af-2186d76ed4e3\",\"type\":\"Line\"},{\"attributes\":{\"callback\":null,\"column_names\":[\"x_values\",\"y_values\"],\"data\":{\"Day_Of_Week\":[\"Saturday\",\"Saturday\",\"Saturday\",\"Saturday\",\"Saturday\",\"Saturday\",\"Saturday\",\"Saturday\",\"Saturday\",\"Saturday\",\"Saturday\",\"Saturday\",\"Saturday\",\"Saturday\",\"Saturday\",\"Saturday\",\"Saturday\",\"Saturday\",\"Saturday\",\"Saturday\",\"Saturday\",\"Saturday\",\"Saturday\",\"Saturday\"],\"chart_index\":[{\"Day_Of_Week\":\"Saturday\"},{\"Day_Of_Week\":\"Saturday\"},{\"Day_Of_Week\":\"Saturday\"},{\"Day_Of_Week\":\"Saturday\"},{\"Day_Of_Week\":\"Saturday\"},{\"Day_Of_Week\":\"Saturday\"},{\"Day_Of_Week\":\"Saturday\"},{\"Day_Of_Week\":\"Saturday\"},{\"Day_Of_Week\":\"Saturday\"},{\"Day_Of_Week\":\"Saturday\"},{\"Day_Of_Week\":\"Saturday\"},{\"Day_Of_Week\":\"Saturday\"},{\"Day_Of_Week\":\"Saturday\"},{\"Day_Of_Week\":\"Saturday\"},{\"Day_Of_Week\":\"Saturday\"},{\"Day_Of_Week\":\"Saturday\"},{\"Day_Of_Week\":\"Saturday\"},{\"Day_Of_Week\":\"Saturday\"},{\"Day_Of_Week\":\"Saturday\"},{\"Day_Of_Week\":\"Saturday\"},{\"Day_Of_Week\":\"Saturday\"},{\"Day_Of_Week\":\"Saturday\"},{\"Day_Of_Week\":\"Saturday\"},{\"Day_Of_Week\":\"Saturday\"}],\"x_values\":[0,1,2,3,4,5,6,7,8,9,10,11,12,13,14,15,16,17,18,19,20,21,22,23],\"y_values\":[2530,2182,1891,1829,1734,1707,1759,1784,1788,1975,2027,2176,2316,2527,2734,2904,3006,3147,3076,3113,3007,2848,2682,2441]}},\"id\":\"91b597a1-2856-4406-9577-65daf9afe171\",\"type\":\"ColumnDataSource\"},{\"attributes\":{\"callback\":null,\"column_names\":[\"x_values\",\"y_values\"],\"data\":{\"Day_Of_Week\":[\"Friday\",\"Friday\",\"Friday\",\"Friday\",\"Friday\",\"Friday\",\"Friday\",\"Friday\",\"Friday\",\"Friday\",\"Friday\",\"Friday\",\"Friday\",\"Friday\",\"Friday\",\"Friday\",\"Friday\",\"Friday\",\"Friday\",\"Friday\",\"Friday\",\"Friday\",\"Friday\",\"Friday\"],\"chart_index\":[{\"Day_Of_Week\":\"Friday\"},{\"Day_Of_Week\":\"Friday\"},{\"Day_Of_Week\":\"Friday\"},{\"Day_Of_Week\":\"Friday\"},{\"Day_Of_Week\":\"Friday\"},{\"Day_Of_Week\":\"Friday\"},{\"Day_Of_Week\":\"Friday\"},{\"Day_Of_Week\":\"Friday\"},{\"Day_Of_Week\":\"Friday\"},{\"Day_Of_Week\":\"Friday\"},{\"Day_Of_Week\":\"Friday\"},{\"Day_Of_Week\":\"Friday\"},{\"Day_Of_Week\":\"Friday\"},{\"Day_Of_Week\":\"Friday\"},{\"Day_Of_Week\":\"Friday\"},{\"Day_Of_Week\":\"Friday\"},{\"Day_Of_Week\":\"Friday\"},{\"Day_Of_Week\":\"Friday\"},{\"Day_Of_Week\":\"Friday\"},{\"Day_Of_Week\":\"Friday\"},{\"Day_Of_Week\":\"Friday\"},{\"Day_Of_Week\":\"Friday\"},{\"Day_Of_Week\":\"Friday\"},{\"Day_Of_Week\":\"Friday\"}],\"x_values\":[0,1,2,3,4,5,6,7,8,9,10,11,12,13,14,15,16,17,18,19,20,21,22,23],\"y_values\":[2976,2836,2730,2621,2442,2556,2803,3016,3408,4134,4029,3973,4041,4625,5224,5436,5045,4916,4786,4605,4301,4235,3548,2911]}},\"id\":\"31788ebb-f2da-40cb-b7eb-9f5fa6eddbed\",\"type\":\"ColumnDataSource\"},{\"attributes\":{\"data_source\":{\"id\":\"4045e81d-3c8f-4481-9aae-13672464eca5\",\"type\":\"ColumnDataSource\"},\"glyph\":{\"id\":\"090332d1-f761-4150-9948-f3658aab789a\",\"type\":\"Line\"},\"hover_glyph\":null,\"muted_glyph\":null},\"id\":\"fcfcf6cc-02cf-4883-afbb-238ef2b874f0\",\"type\":\"GlyphRenderer\"},{\"attributes\":{},\"id\":\"2ee75d68-7778-42cf-ad54-0c837b868da5\",\"type\":\"BasicTicker\"},{\"attributes\":{\"plot\":{\"id\":\"9482465d-4bd2-4ebb-9e2d-337e8274e936\",\"subtype\":\"Chart\",\"type\":\"Plot\"}},\"id\":\"8cdc154c-4458-4681-8205-e943ed810bc9\",\"type\":\"ResetTool\"},{\"attributes\":{\"below\":[{\"id\":\"9c0ef96e-7142-4ff3-bf54-8cfec9f5fb3d\",\"type\":\"LinearAxis\"}],\"css_classes\":null,\"left\":[{\"id\":\"2f070bd9-b566-434a-893a-b7fd64219b2b\",\"type\":\"LinearAxis\"}],\"renderers\":[{\"id\":\"17568277-162d-4b2b-9f89-03fb2ba74836\",\"type\":\"BoxAnnotation\"},{\"id\":\"fcfcf6cc-02cf-4883-afbb-238ef2b874f0\",\"type\":\"GlyphRenderer\"},{\"id\":\"e78ce01d-72cb-4d28-9973-afb2fc94a2a1\",\"type\":\"GlyphRenderer\"},{\"id\":\"ef1bdf3a-0656-4ebf-a72c-72922a7c230a\",\"type\":\"GlyphRenderer\"},{\"id\":\"f1417bc8-f1ae-4c5e-a244-94fbefe77ff1\",\"type\":\"GlyphRenderer\"},{\"id\":\"9b4ef3a2-2359-4f56-854b-453bca423ca5\",\"type\":\"GlyphRenderer\"},{\"id\":\"29a27e89-dd6f-4063-b730-f0f990a38681\",\"type\":\"GlyphRenderer\"},{\"id\":\"f163c640-2319-4ace-94e7-c18870c35b77\",\"type\":\"GlyphRenderer\"},{\"id\":\"5d2b5a30-7001-4cdd-8cce-a1bf37c2e19f\",\"type\":\"Legend\"},{\"id\":\"9c0ef96e-7142-4ff3-bf54-8cfec9f5fb3d\",\"type\":\"LinearAxis\"},{\"id\":\"2f070bd9-b566-434a-893a-b7fd64219b2b\",\"type\":\"LinearAxis\"},{\"id\":\"4a212771-e9c1-40cb-b7a5-7595ef333bab\",\"type\":\"Grid\"},{\"id\":\"66430c1f-6170-43e8-8422-66fa1a31bb16\",\"type\":\"Grid\"}],\"title\":{\"id\":\"d66a2041-a593-4863-a6ce-610e14e56172\",\"type\":\"Title\"},\"tool_events\":{\"id\":\"7300ab22-9f2d-4e5a-ab94-75b9890698c5\",\"type\":\"ToolEvents\"},\"toolbar\":{\"id\":\"35f4d1f3-8feb-40c8-9d8c-105c370d180b\",\"type\":\"Toolbar\"},\"x_mapper_type\":\"auto\",\"x_range\":{\"id\":\"94145e01-055d-4c28-aefd-9868595953ec\",\"type\":\"Range1d\"},\"y_mapper_type\":\"auto\",\"y_range\":{\"id\":\"633ab368-eb20-4f71-a13e-357264a1edb0\",\"type\":\"Range1d\"}},\"id\":\"9482465d-4bd2-4ebb-9e2d-337e8274e936\",\"subtype\":\"Chart\",\"type\":\"Plot\"},{\"attributes\":{\"callback\":null,\"end\":6622.9,\"start\":1260.1},\"id\":\"633ab368-eb20-4f71-a13e-357264a1edb0\",\"type\":\"Range1d\"},{\"attributes\":{\"callback\":null,\"end\":25.3,\"start\":-2.3000000000000003},\"id\":\"94145e01-055d-4c28-aefd-9868595953ec\",\"type\":\"Range1d\"},{\"attributes\":{\"label\":{\"value\":\"Sunday\"},\"renderers\":[{\"id\":\"f163c640-2319-4ace-94e7-c18870c35b77\",\"type\":\"GlyphRenderer\"}]},\"id\":\"324e7eb2-557a-4be3-a5b5-046af75ec89d\",\"type\":\"LegendItem\"},{\"attributes\":{\"label\":{\"value\":\"Tuesday\"},\"renderers\":[{\"id\":\"e78ce01d-72cb-4d28-9973-afb2fc94a2a1\",\"type\":\"GlyphRenderer\"}]},\"id\":\"93fb1f0c-8a61-4351-9ecf-feb3471235c3\",\"type\":\"LegendItem\"},{\"attributes\":{\"data_source\":{\"id\":\"31788ebb-f2da-40cb-b7eb-9f5fa6eddbed\",\"type\":\"ColumnDataSource\"},\"glyph\":{\"id\":\"3e917d11-55f5-472e-b369-bfcb78a369af\",\"type\":\"Line\"},\"hover_glyph\":null,\"muted_glyph\":null},\"id\":\"9b4ef3a2-2359-4f56-854b-453bca423ca5\",\"type\":\"GlyphRenderer\"},{\"attributes\":{\"label\":{\"value\":\"Saturday\"},\"renderers\":[{\"id\":\"29a27e89-dd6f-4063-b730-f0f990a38681\",\"type\":\"GlyphRenderer\"}]},\"id\":\"cc79d437-c094-4467-9727-38d6a6a0035d\",\"type\":\"LegendItem\"},{\"attributes\":{\"data_source\":{\"id\":\"c5be7923-9313-445b-a27e-09312dd392ce\",\"type\":\"ColumnDataSource\"},\"glyph\":{\"id\":\"0882ced1-a296-40d4-accf-59524c571ee6\",\"type\":\"Line\"},\"hover_glyph\":null,\"muted_glyph\":null},\"id\":\"ef1bdf3a-0656-4ebf-a72c-72922a7c230a\",\"type\":\"GlyphRenderer\"},{\"attributes\":{\"label\":{\"value\":\"Monday\"},\"renderers\":[{\"id\":\"fcfcf6cc-02cf-4883-afbb-238ef2b874f0\",\"type\":\"GlyphRenderer\"}]},\"id\":\"01576da7-8ea4-4fc6-88fb-e56268af76fc\",\"type\":\"LegendItem\"},{\"attributes\":{\"line_width\":{\"value\":2},\"x\":{\"field\":\"x_values\"},\"y\":{\"field\":\"y_values\"}},\"id\":\"55200544-8534-4798-9f89-7e1d50708347\",\"type\":\"Line\"},{\"attributes\":{\"plot\":null,\"text\":null},\"id\":\"d66a2041-a593-4863-a6ce-610e14e56172\",\"type\":\"Title\"},{\"attributes\":{\"plot\":{\"id\":\"9482465d-4bd2-4ebb-9e2d-337e8274e936\",\"subtype\":\"Chart\",\"type\":\"Plot\"}},\"id\":\"b1ea080f-630d-409a-928e-e53984b9f84a\",\"type\":\"SaveTool\"},{\"attributes\":{},\"id\":\"5fa80ff6-1cc3-4f8b-b23d-f58d15aa517e\",\"type\":\"BasicTickFormatter\"},{\"attributes\":{\"line_color\":{\"value\":\"green\"},\"line_width\":{\"value\":2},\"x\":{\"field\":\"x_values\"},\"y\":{\"field\":\"y_values\"}},\"id\":\"090332d1-f761-4150-9948-f3658aab789a\",\"type\":\"Line\"},{\"attributes\":{\"overlay\":{\"id\":\"17568277-162d-4b2b-9f89-03fb2ba74836\",\"type\":\"BoxAnnotation\"},\"plot\":{\"id\":\"9482465d-4bd2-4ebb-9e2d-337e8274e936\",\"subtype\":\"Chart\",\"type\":\"Plot\"}},\"id\":\"7f65f8fe-263e-4696-87ca-1357af52693a\",\"type\":\"BoxZoomTool\"},{\"attributes\":{\"data_source\":{\"id\":\"5f890499-d929-44b9-99dc-2c0420b38cde\",\"type\":\"ColumnDataSource\"},\"glyph\":{\"id\":\"84dec919-a65b-4ed6-9e14-847740f11a6d\",\"type\":\"Line\"},\"hover_glyph\":null,\"muted_glyph\":null},\"id\":\"f1417bc8-f1ae-4c5e-a244-94fbefe77ff1\",\"type\":\"GlyphRenderer\"},{\"attributes\":{\"data_source\":{\"id\":\"356a1f82-1b98-4fa2-8d55-5f73078fa859\",\"type\":\"ColumnDataSource\"},\"glyph\":{\"id\":\"55200544-8534-4798-9f89-7e1d50708347\",\"type\":\"Line\"},\"hover_glyph\":null,\"muted_glyph\":null},\"id\":\"e78ce01d-72cb-4d28-9973-afb2fc94a2a1\",\"type\":\"GlyphRenderer\"},{\"attributes\":{\"axis_label\":\"Hours\",\"formatter\":{\"id\":\"5fa80ff6-1cc3-4f8b-b23d-f58d15aa517e\",\"type\":\"BasicTickFormatter\"},\"plot\":{\"id\":\"9482465d-4bd2-4ebb-9e2d-337e8274e936\",\"subtype\":\"Chart\",\"type\":\"Plot\"},\"ticker\":{\"id\":\"784c1729-2ac0-45b5-9344-c421a5b02265\",\"type\":\"BasicTicker\"}},\"id\":\"9c0ef96e-7142-4ff3-bf54-8cfec9f5fb3d\",\"type\":\"LinearAxis\"},{\"attributes\":{\"data_source\":{\"id\":\"94c1074a-b914-41b6-b9af-27c44bfe7b9a\",\"type\":\"ColumnDataSource\"},\"glyph\":{\"id\":\"c1c7c248-6c24-45e8-9b47-26aca07e06b2\",\"type\":\"Line\"},\"hover_glyph\":null,\"muted_glyph\":null},\"id\":\"f163c640-2319-4ace-94e7-c18870c35b77\",\"type\":\"GlyphRenderer\"},{\"attributes\":{\"callback\":null,\"column_names\":[\"x_values\",\"y_values\"],\"data\":{\"Day_Of_Week\":[\"Thursday\",\"Thursday\",\"Thursday\",\"Thursday\",\"Thursday\",\"Thursday\",\"Thursday\",\"Thursday\",\"Thursday\",\"Thursday\",\"Thursday\",\"Thursday\",\"Thursday\",\"Thursday\",\"Thursday\",\"Thursday\",\"Thursday\",\"Thursday\",\"Thursday\",\"Thursday\",\"Thursday\",\"Thursday\",\"Thursday\",\"Thursday\"],\"chart_index\":[{\"Day_Of_Week\":\"Thursday\"},{\"Day_Of_Week\":\"Thursday\"},{\"Day_Of_Week\":\"Thursday\"},{\"Day_Of_Week\":\"Thursday\"},{\"Day_Of_Week\":\"Thursday\"},{\"Day_Of_Week\":\"Thursday\"},{\"Day_Of_Week\":\"Thursday\"},{\"Day_Of_Week\":\"Thursday\"},{\"Day_Of_Week\":\"Thursday\"},{\"Day_Of_Week\":\"Thursday\"},{\"Day_Of_Week\":\"Thursday\"},{\"Day_Of_Week\":\"Thursday\"},{\"Day_Of_Week\":\"Thursday\"},{\"Day_Of_Week\":\"Thursday\"},{\"Day_Of_Week\":\"Thursday\"},{\"Day_Of_Week\":\"Thursday\"},{\"Day_Of_Week\":\"Thursday\"},{\"Day_Of_Week\":\"Thursday\"},{\"Day_Of_Week\":\"Thursday\"},{\"Day_Of_Week\":\"Thursday\"},{\"Day_Of_Week\":\"Thursday\"},{\"Day_Of_Week\":\"Thursday\"},{\"Day_Of_Week\":\"Thursday\"},{\"Day_Of_Week\":\"Thursday\"}],\"x_values\":[0,1,2,3,4,5,6,7,8,9,10,11,12,13,14,15,16,17,18,19,20,21,22,23],\"y_values\":[3148,2959,2825,2720,2669,2732,3062,3387,3824,4460,4569,4358,4555,5079,5769,5874,5633,5400,5511,5194,5014,4788,4117,3575]}},\"id\":\"5f890499-d929-44b9-99dc-2c0420b38cde\",\"type\":\"ColumnDataSource\"},{\"attributes\":{\"data_source\":{\"id\":\"91b597a1-2856-4406-9577-65daf9afe171\",\"type\":\"ColumnDataSource\"},\"glyph\":{\"id\":\"d34ab64c-62dc-4e8f-a6af-2186d76ed4e3\",\"type\":\"Line\"},\"hover_glyph\":null,\"muted_glyph\":null},\"id\":\"29a27e89-dd6f-4063-b730-f0f990a38681\",\"type\":\"GlyphRenderer\"},{\"attributes\":{\"plot\":{\"id\":\"9482465d-4bd2-4ebb-9e2d-337e8274e936\",\"subtype\":\"Chart\",\"type\":\"Plot\"}},\"id\":\"b512a8ed-1729-4e9c-9afd-e4fe34f67e56\",\"type\":\"WheelZoomTool\"},{\"attributes\":{\"line_color\":{\"value\":\"magenta\"},\"line_width\":{\"value\":2},\"x\":{\"field\":\"x_values\"},\"y\":{\"field\":\"y_values\"}},\"id\":\"84dec919-a65b-4ed6-9e14-847740f11a6d\",\"type\":\"Line\"},{\"attributes\":{\"bottom_units\":\"screen\",\"fill_alpha\":{\"value\":0.5},\"fill_color\":{\"value\":\"lightgrey\"},\"left_units\":\"screen\",\"level\":\"overlay\",\"line_alpha\":{\"value\":1.0},\"line_color\":{\"value\":\"black\"},\"line_dash\":[4,4],\"line_width\":{\"value\":2},\"plot\":null,\"render_mode\":\"css\",\"right_units\":\"screen\",\"top_units\":\"screen\"},\"id\":\"17568277-162d-4b2b-9f89-03fb2ba74836\",\"type\":\"BoxAnnotation\"},{\"attributes\":{},\"id\":\"f4063317-9057-44c4-a36e-fd9edc8ac0b1\",\"type\":\"BasicTickFormatter\"},{\"attributes\":{},\"id\":\"784c1729-2ac0-45b5-9344-c421a5b02265\",\"type\":\"BasicTicker\"},{\"attributes\":{\"label\":{\"value\":\"Wednesday\"},\"renderers\":[{\"id\":\"ef1bdf3a-0656-4ebf-a72c-72922a7c230a\",\"type\":\"GlyphRenderer\"}]},\"id\":\"b29592b4-d795-466a-9cd6-3b003dd5c7bd\",\"type\":\"LegendItem\"},{\"attributes\":{\"axis_label\":\"Number of Questions asked\",\"formatter\":{\"id\":\"f4063317-9057-44c4-a36e-fd9edc8ac0b1\",\"type\":\"BasicTickFormatter\"},\"plot\":{\"id\":\"9482465d-4bd2-4ebb-9e2d-337e8274e936\",\"subtype\":\"Chart\",\"type\":\"Plot\"},\"ticker\":{\"id\":\"2ee75d68-7778-42cf-ad54-0c837b868da5\",\"type\":\"BasicTicker\"}},\"id\":\"2f070bd9-b566-434a-893a-b7fd64219b2b\",\"type\":\"LinearAxis\"},{\"attributes\":{\"line_color\":{\"value\":\"brown\"},\"line_width\":{\"value\":2},\"x\":{\"field\":\"x_values\"},\"y\":{\"field\":\"y_values\"}},\"id\":\"0882ced1-a296-40d4-accf-59524c571ee6\",\"type\":\"Line\"},{\"attributes\":{\"active_drag\":\"auto\",\"active_scroll\":\"auto\",\"active_tap\":\"auto\",\"tools\":[{\"id\":\"2095c899-5189-4d0d-a6a8-e6d5d73f6b08\",\"type\":\"PanTool\"},{\"id\":\"b512a8ed-1729-4e9c-9afd-e4fe34f67e56\",\"type\":\"WheelZoomTool\"},{\"id\":\"7f65f8fe-263e-4696-87ca-1357af52693a\",\"type\":\"BoxZoomTool\"},{\"id\":\"b1ea080f-630d-409a-928e-e53984b9f84a\",\"type\":\"SaveTool\"},{\"id\":\"8cdc154c-4458-4681-8205-e943ed810bc9\",\"type\":\"ResetTool\"},{\"id\":\"8e8f62b8-2e0f-4b86-a764-d23c5c8a11ef\",\"type\":\"HelpTool\"}]},\"id\":\"35f4d1f3-8feb-40c8-9d8c-105c370d180b\",\"type\":\"Toolbar\"},{\"attributes\":{\"label\":{\"value\":\"Thursday\"},\"renderers\":[{\"id\":\"f1417bc8-f1ae-4c5e-a244-94fbefe77ff1\",\"type\":\"GlyphRenderer\"}]},\"id\":\"319aff8a-c2d6-4dcc-81f5-0e64559a9604\",\"type\":\"LegendItem\"},{\"attributes\":{\"callback\":null,\"column_names\":[\"x_values\",\"y_values\"],\"data\":{\"Day_Of_Week\":[\"Tuesday\",\"Tuesday\",\"Tuesday\",\"Tuesday\",\"Tuesday\",\"Tuesday\",\"Tuesday\",\"Tuesday\",\"Tuesday\",\"Tuesday\",\"Tuesday\",\"Tuesday\",\"Tuesday\",\"Tuesday\",\"Tuesday\",\"Tuesday\",\"Tuesday\",\"Tuesday\",\"Tuesday\",\"Tuesday\",\"Tuesday\",\"Tuesday\",\"Tuesday\",\"Tuesday\"],\"chart_index\":[{\"Day_Of_Week\":\"Tuesday\"},{\"Day_Of_Week\":\"Tuesday\"},{\"Day_Of_Week\":\"Tuesday\"},{\"Day_Of_Week\":\"Tuesday\"},{\"Day_Of_Week\":\"Tuesday\"},{\"Day_Of_Week\":\"Tuesday\"},{\"Day_Of_Week\":\"Tuesday\"},{\"Day_Of_Week\":\"Tuesday\"},{\"Day_Of_Week\":\"Tuesday\"},{\"Day_Of_Week\":\"Tuesday\"},{\"Day_Of_Week\":\"Tuesday\"},{\"Day_Of_Week\":\"Tuesday\"},{\"Day_Of_Week\":\"Tuesday\"},{\"Day_Of_Week\":\"Tuesday\"},{\"Day_Of_Week\":\"Tuesday\"},{\"Day_Of_Week\":\"Tuesday\"},{\"Day_Of_Week\":\"Tuesday\"},{\"Day_Of_Week\":\"Tuesday\"},{\"Day_Of_Week\":\"Tuesday\"},{\"Day_Of_Week\":\"Tuesday\"},{\"Day_Of_Week\":\"Tuesday\"},{\"Day_Of_Week\":\"Tuesday\"},{\"Day_Of_Week\":\"Tuesday\"},{\"Day_Of_Week\":\"Tuesday\"}],\"x_values\":[0,1,2,3,4,5,6,7,8,9,10,11,12,13,14,15,16,17,18,19,20,21,22,23],\"y_values\":[3083,2797,2881,2704,2649,2738,2943,3332,3699,4521,4490,4261,4485,5135,5826,6084,5724,5444,5398,5225,5089,4875,4297,3524]}},\"id\":\"356a1f82-1b98-4fa2-8d55-5f73078fa859\",\"type\":\"ColumnDataSource\"},{\"attributes\":{\"label\":{\"value\":\"Friday\"},\"renderers\":[{\"id\":\"9b4ef3a2-2359-4f56-854b-453bca423ca5\",\"type\":\"GlyphRenderer\"}]},\"id\":\"688f4b95-8a22-4e55-ad08-79c9013bdbe9\",\"type\":\"LegendItem\"},{\"attributes\":{},\"id\":\"7300ab22-9f2d-4e5a-ab94-75b9890698c5\",\"type\":\"ToolEvents\"},{\"attributes\":{\"callback\":null,\"column_names\":[\"x_values\",\"y_values\"],\"data\":{\"Day_Of_Week\":[\"Sunday\",\"Sunday\",\"Sunday\",\"Sunday\",\"Sunday\",\"Sunday\",\"Sunday\",\"Sunday\",\"Sunday\",\"Sunday\",\"Sunday\",\"Sunday\",\"Sunday\",\"Sunday\",\"Sunday\",\"Sunday\",\"Sunday\",\"Sunday\",\"Sunday\",\"Sunday\",\"Sunday\",\"Sunday\",\"Sunday\",\"Sunday\"],\"chart_index\":[{\"Day_Of_Week\":\"Sunday\"},{\"Day_Of_Week\":\"Sunday\"},{\"Day_Of_Week\":\"Sunday\"},{\"Day_Of_Week\":\"Sunday\"},{\"Day_Of_Week\":\"Sunday\"},{\"Day_Of_Week\":\"Sunday\"},{\"Day_Of_Week\":\"Sunday\"},{\"Day_Of_Week\":\"Sunday\"},{\"Day_Of_Week\":\"Sunday\"},{\"Day_Of_Week\":\"Sunday\"},{\"Day_Of_Week\":\"Sunday\"},{\"Day_Of_Week\":\"Sunday\"},{\"Day_Of_Week\":\"Sunday\"},{\"Day_Of_Week\":\"Sunday\"},{\"Day_Of_Week\":\"Sunday\"},{\"Day_Of_Week\":\"Sunday\"},{\"Day_Of_Week\":\"Sunday\"},{\"Day_Of_Week\":\"Sunday\"},{\"Day_Of_Week\":\"Sunday\"},{\"Day_Of_Week\":\"Sunday\"},{\"Day_Of_Week\":\"Sunday\"},{\"Day_Of_Week\":\"Sunday\"},{\"Day_Of_Week\":\"Sunday\"},{\"Day_Of_Week\":\"Sunday\"}],\"x_values\":[0,1,2,3,4,5,6,7,8,9,10,11,12,13,14,15,16,17,18,19,20,21,22,23],\"y_values\":[2211,1995,1999,1985,1797,1776,1747,1809,1831,1938,2167,2386,2418,2605,2874,3014,3232,3320,3460,3328,3330,3103,2932,2650]}},\"id\":\"94c1074a-b914-41b6-b9af-27c44bfe7b9a\",\"type\":\"ColumnDataSource\"},{\"attributes\":{\"items\":[{\"id\":\"01576da7-8ea4-4fc6-88fb-e56268af76fc\",\"type\":\"LegendItem\"},{\"id\":\"93fb1f0c-8a61-4351-9ecf-feb3471235c3\",\"type\":\"LegendItem\"},{\"id\":\"b29592b4-d795-466a-9cd6-3b003dd5c7bd\",\"type\":\"LegendItem\"},{\"id\":\"319aff8a-c2d6-4dcc-81f5-0e64559a9604\",\"type\":\"LegendItem\"},{\"id\":\"688f4b95-8a22-4e55-ad08-79c9013bdbe9\",\"type\":\"LegendItem\"},{\"id\":\"cc79d437-c094-4467-9727-38d6a6a0035d\",\"type\":\"LegendItem\"},{\"id\":\"324e7eb2-557a-4be3-a5b5-046af75ec89d\",\"type\":\"LegendItem\"}],\"location\":\"top_left\",\"plot\":{\"id\":\"9482465d-4bd2-4ebb-9e2d-337e8274e936\",\"subtype\":\"Chart\",\"type\":\"Plot\"}},\"id\":\"5d2b5a30-7001-4cdd-8cce-a1bf37c2e19f\",\"type\":\"Legend\"},{\"attributes\":{\"dimension\":1,\"plot\":{\"id\":\"9482465d-4bd2-4ebb-9e2d-337e8274e936\",\"subtype\":\"Chart\",\"type\":\"Plot\"},\"ticker\":{\"id\":\"2ee75d68-7778-42cf-ad54-0c837b868da5\",\"type\":\"BasicTicker\"}},\"id\":\"66430c1f-6170-43e8-8422-66fa1a31bb16\",\"type\":\"Grid\"},{\"attributes\":{\"plot\":{\"id\":\"9482465d-4bd2-4ebb-9e2d-337e8274e936\",\"subtype\":\"Chart\",\"type\":\"Plot\"}},\"id\":\"8e8f62b8-2e0f-4b86-a764-d23c5c8a11ef\",\"type\":\"HelpTool\"},{\"attributes\":{\"line_color\":{\"value\":\"red\"},\"line_width\":{\"value\":2},\"x\":{\"field\":\"x_values\"},\"y\":{\"field\":\"y_values\"}},\"id\":\"3e917d11-55f5-472e-b369-bfcb78a369af\",\"type\":\"Line\"},{\"attributes\":{\"callback\":null,\"column_names\":[\"x_values\",\"y_values\"],\"data\":{\"Day_Of_Week\":[\"Wednesday\",\"Wednesday\",\"Wednesday\",\"Wednesday\",\"Wednesday\",\"Wednesday\",\"Wednesday\",\"Wednesday\",\"Wednesday\",\"Wednesday\",\"Wednesday\",\"Wednesday\",\"Wednesday\",\"Wednesday\",\"Wednesday\",\"Wednesday\",\"Wednesday\",\"Wednesday\",\"Wednesday\",\"Wednesday\",\"Wednesday\",\"Wednesday\",\"Wednesday\",\"Wednesday\"],\"chart_index\":[{\"Day_Of_Week\":\"Wednesday\"},{\"Day_Of_Week\":\"Wednesday\"},{\"Day_Of_Week\":\"Wednesday\"},{\"Day_Of_Week\":\"Wednesday\"},{\"Day_Of_Week\":\"Wednesday\"},{\"Day_Of_Week\":\"Wednesday\"},{\"Day_Of_Week\":\"Wednesday\"},{\"Day_Of_Week\":\"Wednesday\"},{\"Day_Of_Week\":\"Wednesday\"},{\"Day_Of_Week\":\"Wednesday\"},{\"Day_Of_Week\":\"Wednesday\"},{\"Day_Of_Week\":\"Wednesday\"},{\"Day_Of_Week\":\"Wednesday\"},{\"Day_Of_Week\":\"Wednesday\"},{\"Day_Of_Week\":\"Wednesday\"},{\"Day_Of_Week\":\"Wednesday\"},{\"Day_Of_Week\":\"Wednesday\"},{\"Day_Of_Week\":\"Wednesday\"},{\"Day_Of_Week\":\"Wednesday\"},{\"Day_Of_Week\":\"Wednesday\"},{\"Day_Of_Week\":\"Wednesday\"},{\"Day_Of_Week\":\"Wednesday\"},{\"Day_Of_Week\":\"Wednesday\"},{\"Day_Of_Week\":\"Wednesday\"}],\"x_values\":[0,1,2,3,4,5,6,7,8,9,10,11,12,13,14,15,16,17,18,19,20,21,22,23],\"y_values\":[3030,2969,2886,2757,2717,2799,3180,3481,3920,4522,4510,4406,4556,5212,5953,6176,5780,5526,5587,5293,5309,5051,4251,3692]}},\"id\":\"c5be7923-9313-445b-a27e-09312dd392ce\",\"type\":\"ColumnDataSource\"}],\"root_ids\":[\"9482465d-4bd2-4ebb-9e2d-337e8274e936\"]},\"title\":\"Bokeh Application\",\"version\":\"0.12.5\"}};\n",
       "            var render_items = [{\"docid\":\"03fbe076-ab95-4ec3-8250-84631e4756c8\",\"elementid\":\"fc4faf83-a4e5-4b13-9eac-336bfa5aca62\",\"modelid\":\"9482465d-4bd2-4ebb-9e2d-337e8274e936\"}];\n",
       "            \n",
       "            Bokeh.embed.embed_items(docs_json, render_items);\n",
       "          };\n",
       "          if (document.readyState != \"loading\") fn();\n",
       "          else document.addEventListener(\"DOMContentLoaded\", fn);\n",
       "        })();\n",
       "      },\n",
       "      function(Bokeh) {\n",
       "      }\n",
       "    ];\n",
       "  \n",
       "    function run_inline_js() {\n",
       "      \n",
       "      if ((window.Bokeh !== undefined) || (force === true)) {\n",
       "        for (var i = 0; i < inline_js.length; i++) {\n",
       "          inline_js[i](window.Bokeh);\n",
       "        }if (force === true) {\n",
       "          display_loaded();\n",
       "        }} else if (Date.now() < window._bokeh_timeout) {\n",
       "        setTimeout(run_inline_js, 100);\n",
       "      } else if (!window._bokeh_failed_load) {\n",
       "        console.log(\"Bokeh: BokehJS failed to load within specified timeout.\");\n",
       "        window._bokeh_failed_load = true;\n",
       "      } else if (force !== true) {\n",
       "        var cell = $(document.getElementById(\"fc4faf83-a4e5-4b13-9eac-336bfa5aca62\")).parents('.cell').data().cell;\n",
       "        cell.output_area.append_execute_result(NB_LOAD_WARNING)\n",
       "      }\n",
       "  \n",
       "    }\n",
       "  \n",
       "    if (window._bokeh_is_loading === 0) {\n",
       "      console.log(\"Bokeh: BokehJS loaded, going straight to plotting\");\n",
       "      run_inline_js();\n",
       "    } else {\n",
       "      load_libs(js_urls, function() {\n",
       "        console.log(\"Bokeh: BokehJS plotting callback run at\", now());\n",
       "        run_inline_js();\n",
       "      });\n",
       "    }\n",
       "  }(this));\n",
       "</script>"
      ]
     },
     "metadata": {},
     "output_type": "display_data"
    }
   ],
   "source": [
    "p = Line(Number_Of_Questions_Hours ,y=\"Id\", x = \"Hours\", \n",
    "        xlabel= \"Hours\", ylabel=\"Number of Questions asked\", \n",
    "        color = \"Day_Of_Week\",legend=True, palette=[\"red\", \"green\", \"blue\",\"yellow\", \"magenta\", \"black\",\"brown\",\"pink\"])\n",
    "show(p) \n",
    "#create a line graph of number of questions vs. hour of day"
   ]
  },
  {
   "cell_type": "markdown",
   "metadata": {},
   "source": [
    "By sorting the data by the specific date and time the questions were asked, we were able to create a visualization of the total number of questions asked on each day. The results of the first chart indicate that questions are asked on weekdays far more than weekends, with Wednesday being the peak day for questions. Tuesday and Thursday seemed to correspond with less questions than Wednesday, and Monday and Friday had similar results we further less, creating a bell curve distribution during the weekdays.\n",
    "\n",
    "The second chart depicts the hourly frequency distribution within each day. The total results are consistent with the first graph. Each weekday has a consistent peak time around 2-4 pm, while weekends have a peak time around 5-7 pm. This illustrates the most popular times that individuals code and ask for assistance with their projects.\n",
    " "
   ]
  },
  {
   "cell_type": "markdown",
   "metadata": {},
   "source": [
    "#### Finding the time it takes for user submitted questions to be answered"
   ]
  },
  {
   "cell_type": "markdown",
   "metadata": {},
   "source": [
    "One gauge of the effectiveness of Stack Overflow is the speed in which questions are answered. If help is not provided in a timely manner, then the crowdsourced information is not meeting its purpose, and users will not derive value from the website. Using the question posting dates and time with the corresponding answer date and time, we hope to find a distribution of times and find the most likely range of time that will be needed for a question to be answered."
   ]
  },
  {
   "cell_type": "code",
   "execution_count": 9,
   "metadata": {},
   "outputs": [
    {
     "data": {
      "text/html": [
       "<div>\n",
       "<style>\n",
       "    .dataframe thead tr:only-child th {\n",
       "        text-align: right;\n",
       "    }\n",
       "\n",
       "    .dataframe thead th {\n",
       "        text-align: left;\n",
       "    }\n",
       "\n",
       "    .dataframe tbody tr th {\n",
       "        vertical-align: top;\n",
       "    }\n",
       "</style>\n",
       "<table border=\"1\" class=\"dataframe\">\n",
       "  <thead>\n",
       "    <tr style=\"text-align: right;\">\n",
       "      <th></th>\n",
       "      <th>Id</th>\n",
       "      <th>OwnerUserId</th>\n",
       "      <th>CreationDate</th>\n",
       "      <th>ParentId</th>\n",
       "      <th>Score</th>\n",
       "      <th>Body</th>\n",
       "      <th>Creation_Date</th>\n",
       "      <th>Creation_Time</th>\n",
       "    </tr>\n",
       "  </thead>\n",
       "  <tbody>\n",
       "    <tr>\n",
       "      <th>0</th>\n",
       "      <td>497</td>\n",
       "      <td>50.0</td>\n",
       "      <td>2008-08-02T16:56:53Z</td>\n",
       "      <td>469</td>\n",
       "      <td>4</td>\n",
       "      <td>&lt;p&gt;open up a terminal (Applications-&amp;gt;Utilit...</td>\n",
       "      <td>2008-08-02</td>\n",
       "      <td>16:56:53</td>\n",
       "    </tr>\n",
       "    <tr>\n",
       "      <th>1</th>\n",
       "      <td>518</td>\n",
       "      <td>153.0</td>\n",
       "      <td>2008-08-02T17:42:28Z</td>\n",
       "      <td>469</td>\n",
       "      <td>2</td>\n",
       "      <td>&lt;p&gt;I haven't been able to find anything that d...</td>\n",
       "      <td>2008-08-02</td>\n",
       "      <td>17:42:28</td>\n",
       "    </tr>\n",
       "    <tr>\n",
       "      <th>2</th>\n",
       "      <td>536</td>\n",
       "      <td>161.0</td>\n",
       "      <td>2008-08-02T18:49:07Z</td>\n",
       "      <td>502</td>\n",
       "      <td>9</td>\n",
       "      <td>&lt;p&gt;You can use ImageMagick's convert utility f...</td>\n",
       "      <td>2008-08-02</td>\n",
       "      <td>18:49:07</td>\n",
       "    </tr>\n",
       "  </tbody>\n",
       "</table>\n",
       "</div>"
      ],
      "text/plain": [
       "    Id  OwnerUserId          CreationDate  ParentId  Score  \\\n",
       "0  497         50.0  2008-08-02T16:56:53Z       469      4   \n",
       "1  518        153.0  2008-08-02T17:42:28Z       469      2   \n",
       "2  536        161.0  2008-08-02T18:49:07Z       502      9   \n",
       "\n",
       "                                                Body Creation_Date  \\\n",
       "0  <p>open up a terminal (Applications-&gt;Utilit...    2008-08-02   \n",
       "1  <p>I haven't been able to find anything that d...    2008-08-02   \n",
       "2  <p>You can use ImageMagick's convert utility f...    2008-08-02   \n",
       "\n",
       "  Creation_Time  \n",
       "0      16:56:53  \n",
       "1      17:42:28  \n",
       "2      18:49:07  "
      ]
     },
     "execution_count": 9,
     "metadata": {},
     "output_type": "execute_result"
    }
   ],
   "source": [
    "A = pd.read_csv(\"Answers.csv\")  #read the answers file\n",
    "A[\"Creation_Date\"] = A[\"CreationDate\"].str[:10]  \n",
    "#extract the first ten of the strings and store them as A[\"Creation_Date\"]\n",
    "A[\"Creation_Time\"] = A[\"CreationDate\"].str[11:19] \n",
    "#extract the 12th to 19th of the strings and store them as Q[\"Creation_Date\"]\n",
    "A.head(3)"
   ]
  },
  {
   "cell_type": "code",
   "execution_count": 10,
   "metadata": {},
   "outputs": [
    {
     "data": {
      "text/html": [
       "<div>\n",
       "<style>\n",
       "    .dataframe thead tr:only-child th {\n",
       "        text-align: right;\n",
       "    }\n",
       "\n",
       "    .dataframe thead th {\n",
       "        text-align: left;\n",
       "    }\n",
       "\n",
       "    .dataframe tbody tr th {\n",
       "        vertical-align: top;\n",
       "    }\n",
       "</style>\n",
       "<table border=\"1\" class=\"dataframe\">\n",
       "  <thead>\n",
       "    <tr style=\"text-align: right;\">\n",
       "      <th></th>\n",
       "      <th>Id</th>\n",
       "      <th>OwnerUserId</th>\n",
       "      <th>CreationDate</th>\n",
       "      <th>ParentId</th>\n",
       "      <th>Score</th>\n",
       "      <th>Body</th>\n",
       "      <th>Creation_Date</th>\n",
       "      <th>Creation_Time</th>\n",
       "      <th>Start Day</th>\n",
       "      <th>Start Time</th>\n",
       "      <th>Start Weekday</th>\n",
       "      <th>Hours</th>\n",
       "      <th>Day_Of_Week</th>\n",
       "    </tr>\n",
       "  </thead>\n",
       "  <tbody>\n",
       "    <tr>\n",
       "      <th>0</th>\n",
       "      <td>497</td>\n",
       "      <td>50.0</td>\n",
       "      <td>2008-08-02T16:56:53Z</td>\n",
       "      <td>469</td>\n",
       "      <td>4</td>\n",
       "      <td>&lt;p&gt;open up a terminal (Applications-&amp;gt;Utilit...</td>\n",
       "      <td>2008-08-02</td>\n",
       "      <td>16:56:53</td>\n",
       "      <td>2008-08-02</td>\n",
       "      <td>16:56:53</td>\n",
       "      <td>5</td>\n",
       "      <td>16</td>\n",
       "      <td>Saturday</td>\n",
       "    </tr>\n",
       "    <tr>\n",
       "      <th>1</th>\n",
       "      <td>518</td>\n",
       "      <td>153.0</td>\n",
       "      <td>2008-08-02T17:42:28Z</td>\n",
       "      <td>469</td>\n",
       "      <td>2</td>\n",
       "      <td>&lt;p&gt;I haven't been able to find anything that d...</td>\n",
       "      <td>2008-08-02</td>\n",
       "      <td>17:42:28</td>\n",
       "      <td>2008-08-02</td>\n",
       "      <td>17:42:28</td>\n",
       "      <td>5</td>\n",
       "      <td>17</td>\n",
       "      <td>Saturday</td>\n",
       "    </tr>\n",
       "    <tr>\n",
       "      <th>2</th>\n",
       "      <td>536</td>\n",
       "      <td>161.0</td>\n",
       "      <td>2008-08-02T18:49:07Z</td>\n",
       "      <td>502</td>\n",
       "      <td>9</td>\n",
       "      <td>&lt;p&gt;You can use ImageMagick's convert utility f...</td>\n",
       "      <td>2008-08-02</td>\n",
       "      <td>18:49:07</td>\n",
       "      <td>2008-08-02</td>\n",
       "      <td>18:49:07</td>\n",
       "      <td>5</td>\n",
       "      <td>18</td>\n",
       "      <td>Saturday</td>\n",
       "    </tr>\n",
       "  </tbody>\n",
       "</table>\n",
       "</div>"
      ],
      "text/plain": [
       "    Id  OwnerUserId          CreationDate  ParentId  Score  \\\n",
       "0  497         50.0  2008-08-02T16:56:53Z       469      4   \n",
       "1  518        153.0  2008-08-02T17:42:28Z       469      2   \n",
       "2  536        161.0  2008-08-02T18:49:07Z       502      9   \n",
       "\n",
       "                                                Body Creation_Date  \\\n",
       "0  <p>open up a terminal (Applications-&gt;Utilit...    2008-08-02   \n",
       "1  <p>I haven't been able to find anything that d...    2008-08-02   \n",
       "2  <p>You can use ImageMagick's convert utility f...    2008-08-02   \n",
       "\n",
       "  Creation_Time   Start Day Start Time  Start Weekday  Hours Day_Of_Week  \n",
       "0      16:56:53  2008-08-02   16:56:53              5     16    Saturday  \n",
       "1      17:42:28  2008-08-02   17:42:28              5     17    Saturday  \n",
       "2      18:49:07  2008-08-02   18:49:07              5     18    Saturday  "
      ]
     },
     "execution_count": 10,
     "metadata": {},
     "output_type": "execute_result"
    }
   ],
   "source": [
    "import datetime as dt\n",
    "#assign an answer date and time parameter\n",
    "A['Start Day']=pd.DatetimeIndex(A['Creation_Date']).date  \n",
    "A['Start Time']=pd.DatetimeIndex(A['Creation_Time']).time  \n",
    "A['Start Weekday']=pd.DatetimeIndex(A['Creation_Date']).weekday\n",
    "A['Hours']=pd.DatetimeIndex(A['Creation_Time']).hour\n",
    "A['Day_Of_Week']=pd.DatetimeIndex(A['Creation_Date']).weekday_name\n",
    "A.head(3)                               "
   ]
  },
  {
   "cell_type": "code",
   "execution_count": 11,
   "metadata": {},
   "outputs": [
    {
     "name": "stderr",
     "output_type": "stream",
     "text": [
      "C:\\Users\\Doug\\Anaconda2\\lib\\site-packages\\ipykernel_launcher.py:3: SettingWithCopyWarning: \n",
      "A value is trying to be set on a copy of a slice from a DataFrame.\n",
      "Try using .loc[row_indexer,col_indexer] = value instead\n",
      "\n",
      "See the caveats in the documentation: http://pandas.pydata.org/pandas-docs/stable/indexing.html#indexing-view-versus-copy\n",
      "  This is separate from the ipykernel package so we can avoid doing imports until\n"
     ]
    },
    {
     "data": {
      "text/html": [
       "<div>\n",
       "<style>\n",
       "    .dataframe thead tr:only-child th {\n",
       "        text-align: right;\n",
       "    }\n",
       "\n",
       "    .dataframe thead th {\n",
       "        text-align: left;\n",
       "    }\n",
       "\n",
       "    .dataframe tbody tr th {\n",
       "        vertical-align: top;\n",
       "    }\n",
       "</style>\n",
       "<table border=\"1\" class=\"dataframe\">\n",
       "  <thead>\n",
       "    <tr style=\"text-align: right;\">\n",
       "      <th></th>\n",
       "      <th>Id</th>\n",
       "      <th>Date_Time</th>\n",
       "    </tr>\n",
       "  </thead>\n",
       "  <tbody>\n",
       "    <tr>\n",
       "      <th>0</th>\n",
       "      <td>469</td>\n",
       "      <td>2008-08-02 15:11:16</td>\n",
       "    </tr>\n",
       "    <tr>\n",
       "      <th>1</th>\n",
       "      <td>502</td>\n",
       "      <td>2008-08-02 17:01:58</td>\n",
       "    </tr>\n",
       "    <tr>\n",
       "      <th>2</th>\n",
       "      <td>535</td>\n",
       "      <td>2008-08-02 18:43:54</td>\n",
       "    </tr>\n",
       "    <tr>\n",
       "      <th>3</th>\n",
       "      <td>594</td>\n",
       "      <td>2008-08-03 01:15:08</td>\n",
       "    </tr>\n",
       "    <tr>\n",
       "      <th>4</th>\n",
       "      <td>683</td>\n",
       "      <td>2008-08-03 13:19:16</td>\n",
       "    </tr>\n",
       "  </tbody>\n",
       "</table>\n",
       "</div>"
      ],
      "text/plain": [
       "    Id            Date_Time\n",
       "0  469  2008-08-02 15:11:16\n",
       "1  502  2008-08-02 17:01:58\n",
       "2  535  2008-08-02 18:43:54\n",
       "3  594  2008-08-03 01:15:08\n",
       "4  683  2008-08-03 13:19:16"
      ]
     },
     "execution_count": 11,
     "metadata": {},
     "output_type": "execute_result"
    }
   ],
   "source": [
    "Avg_Time_Q = Q[[\"Id\", \"Creation_Date\", \"Creation_Time\"]] \n",
    "#extract the three columns in Question file\n",
    "Avg_Time_Q['Date_Time'] = Avg_Time_Q['Creation_Date']+' '+Avg_Time_Q['Creation_Time'] \n",
    "#combine the two columns and store them as Avg_Time_Q['Date_Time'] \n",
    "Avg_Time_Q = Avg_Time_Q.drop([\"Creation_Date\", \"Creation_Time\"], axis = 1)  \n",
    "#drop the two columns named \"Creation_Date\" and \"Creation_Time\"\n",
    "Avg_Time_Q.head()"
   ]
  },
  {
   "cell_type": "code",
   "execution_count": 12,
   "metadata": {},
   "outputs": [
    {
     "name": "stderr",
     "output_type": "stream",
     "text": [
      "C:\\Users\\Doug\\Anaconda2\\lib\\site-packages\\ipykernel_launcher.py:3: SettingWithCopyWarning: \n",
      "A value is trying to be set on a copy of a slice from a DataFrame.\n",
      "Try using .loc[row_indexer,col_indexer] = value instead\n",
      "\n",
      "See the caveats in the documentation: http://pandas.pydata.org/pandas-docs/stable/indexing.html#indexing-view-versus-copy\n",
      "  This is separate from the ipykernel package so we can avoid doing imports until\n"
     ]
    }
   ],
   "source": [
    "Avg_Time_A = A[[\"ParentId\", \"Creation_Date\", \"Creation_Time\"]] \n",
    "#extract the three columns in Answer file\n",
    "Avg_Time_A['Date_Time'] = Avg_Time_A['Creation_Date']+' '+Avg_Time_A['Creation_Time'] \n",
    "#combine the Creation Date and Creation Time columns \n",
    "Avg_Time_A = Avg_Time_A.drop([\"Creation_Date\", \"Creation_Time\"], axis = 1) \n",
    "#drop the two columns\n",
    "Avg_Time_A.rename(columns={\"ParentId\":\"Id\"},inplace = True)  \n",
    "#Replace values given in ‘ParentId’ with ‘Id’"
   ]
  },
  {
   "cell_type": "code",
   "execution_count": 13,
   "metadata": {},
   "outputs": [
    {
     "data": {
      "text/html": [
       "<div>\n",
       "<style>\n",
       "    .dataframe thead tr:only-child th {\n",
       "        text-align: right;\n",
       "    }\n",
       "\n",
       "    .dataframe thead th {\n",
       "        text-align: left;\n",
       "    }\n",
       "\n",
       "    .dataframe tbody tr th {\n",
       "        vertical-align: top;\n",
       "    }\n",
       "</style>\n",
       "<table border=\"1\" class=\"dataframe\">\n",
       "  <thead>\n",
       "    <tr style=\"text-align: right;\">\n",
       "      <th></th>\n",
       "      <th>Id</th>\n",
       "      <th>Date_Time_x</th>\n",
       "      <th>Date_Time_y</th>\n",
       "      <th>Time_x</th>\n",
       "      <th>Time_y</th>\n",
       "    </tr>\n",
       "  </thead>\n",
       "  <tbody>\n",
       "    <tr>\n",
       "      <th>0</th>\n",
       "      <td>469</td>\n",
       "      <td>2008-08-02 15:11:16</td>\n",
       "      <td>2008-08-02 16:56:53</td>\n",
       "      <td>2008-08-02 15:11:16</td>\n",
       "      <td>2008-08-02 16:56:53</td>\n",
       "    </tr>\n",
       "    <tr>\n",
       "      <th>4</th>\n",
       "      <td>502</td>\n",
       "      <td>2008-08-02 17:01:58</td>\n",
       "      <td>2008-08-02 18:49:07</td>\n",
       "      <td>2008-08-02 17:01:58</td>\n",
       "      <td>2008-08-02 18:49:07</td>\n",
       "    </tr>\n",
       "    <tr>\n",
       "      <th>7</th>\n",
       "      <td>535</td>\n",
       "      <td>2008-08-02 18:43:54</td>\n",
       "      <td>2008-08-02 18:56:56</td>\n",
       "      <td>2008-08-02 18:43:54</td>\n",
       "      <td>2008-08-02 18:56:56</td>\n",
       "    </tr>\n",
       "    <tr>\n",
       "      <th>14</th>\n",
       "      <td>594</td>\n",
       "      <td>2008-08-03 01:15:08</td>\n",
       "      <td>2008-08-03 01:17:36</td>\n",
       "      <td>2008-08-03 01:15:08</td>\n",
       "      <td>2008-08-03 01:17:36</td>\n",
       "    </tr>\n",
       "    <tr>\n",
       "      <th>17</th>\n",
       "      <td>683</td>\n",
       "      <td>2008-08-03 13:19:16</td>\n",
       "      <td>2008-08-03 14:30:50</td>\n",
       "      <td>2008-08-03 13:19:16</td>\n",
       "      <td>2008-08-03 14:30:50</td>\n",
       "    </tr>\n",
       "  </tbody>\n",
       "</table>\n",
       "</div>"
      ],
      "text/plain": [
       "     Id          Date_Time_x          Date_Time_y              Time_x  \\\n",
       "0   469  2008-08-02 15:11:16  2008-08-02 16:56:53 2008-08-02 15:11:16   \n",
       "4   502  2008-08-02 17:01:58  2008-08-02 18:49:07 2008-08-02 17:01:58   \n",
       "7   535  2008-08-02 18:43:54  2008-08-02 18:56:56 2008-08-02 18:43:54   \n",
       "14  594  2008-08-03 01:15:08  2008-08-03 01:17:36 2008-08-03 01:15:08   \n",
       "17  683  2008-08-03 13:19:16  2008-08-03 14:30:50 2008-08-03 13:19:16   \n",
       "\n",
       "                Time_y  \n",
       "0  2008-08-02 16:56:53  \n",
       "4  2008-08-02 18:49:07  \n",
       "7  2008-08-02 18:56:56  \n",
       "14 2008-08-03 01:17:36  \n",
       "17 2008-08-03 14:30:50  "
      ]
     },
     "execution_count": 13,
     "metadata": {},
     "output_type": "execute_result"
    }
   ],
   "source": [
    "Avg_Time = pd. merge(Avg_Time_Q, Avg_Time_A, on=[\"Id\"], how=\"inner\")  \n",
    "#join the two dataframes by Id using intersection of keys from both frames, namely 'Id'\n",
    "Avg_Time = Avg_Time.drop_duplicates(subset=['Id'], keep=\"first\") \n",
    "#drop the duplicates in Column 'Id' except for the first occurrence\n",
    "\n",
    "Avg_Time['Time_x'] =  pd.to_datetime(Avg_Time['Date_Time_x'], format='%Y-%m-%d %H:%M:%S') \n",
    "#parse data in column 'Date_Time_x' to datetime objects; easier format to read\n",
    "Avg_Time['Time_y'] =  pd.to_datetime(Avg_Time['Date_Time_y'], format='%Y-%m-%d %H:%M:%S')\n",
    "Avg_Time.head()"
   ]
  },
  {
   "cell_type": "code",
   "execution_count": 14,
   "metadata": {
    "collapsed": true
   },
   "outputs": [],
   "source": [
    "Avg_Time[\"Difference\"] = (Avg_Time[\"Time_y\"]-Avg_Time[\"Time_x\"])  \n",
    "#calculate the difference between ask time and answertime and average the results\n",
    "Avg_Time = Avg_Time.reset_index() "
   ]
  },
  {
   "cell_type": "code",
   "execution_count": 15,
   "metadata": {},
   "outputs": [
    {
     "data": {
      "text/plain": [
       "Timedelta('8 days 15:48:52.917350')"
      ]
     },
     "execution_count": 15,
     "metadata": {},
     "output_type": "execute_result"
    }
   ],
   "source": [
    "(Avg_Time['Difference']).mean()\n",
    "#print mean "
   ]
  },
  {
   "cell_type": "code",
   "execution_count": 16,
   "metadata": {},
   "outputs": [
    {
     "data": {
      "text/plain": [
       "<matplotlib.axes._subplots.AxesSubplot at 0x96d1ba90>"
      ]
     },
     "execution_count": 16,
     "metadata": {},
     "output_type": "execute_result"
    },
    {
     "data": {
      "image/png": "[encoded data removed]",
      "text/plain": [
       "<matplotlib.figure.Figure at 0x2da7f3c8>"
      ]
     },
     "metadata": {},
     "output_type": "display_data"
    }
   ],
   "source": [
    "sns.boxplot(data=Avg_Time, y = \"Difference\")\n",
    "#plot boxplot of time distribution "
   ]
  },
  {
   "cell_type": "markdown",
   "metadata": {},
   "source": [
    "When we ran the boxplots for the entire timelime, we found that many outliers existed within the data. For example, if a question was never answered or took many days to answer, then the time taken to answer will be high or non-existance. This makes the average time to extremely high. In this case, the average time is around 8 days. In order to offset this, the data was must be subsetted in order to eliminate outliers. "
   ]
  },
  {
   "cell_type": "code",
   "execution_count": 17,
   "metadata": {
    "collapsed": true
   },
   "outputs": [],
   "source": [
    "Avg_Time1day = Avg_Time[Avg_Time['Difference']<'1 day 00:00:00']\n",
    "Avg_Time1day = Avg_Time1day[Avg_Time1day['Difference']>'00:00:00'] \n",
    "#limit the average time to 1 day"
   ]
  },
  {
   "cell_type": "code",
   "execution_count": 18,
   "metadata": {},
   "outputs": [
    {
     "data": {
      "text/plain": [
       "Timedelta('0 days 01:39:35.090669')"
      ]
     },
     "execution_count": 18,
     "metadata": {},
     "output_type": "execute_result"
    }
   ],
   "source": [
    "(Avg_Time1day['Difference']).mean()\n",
    "#print mean"
   ]
  },
  {
   "cell_type": "code",
   "execution_count": 19,
   "metadata": {},
   "outputs": [
    {
     "data": {
      "text/plain": [
       "<matplotlib.axes._subplots.AxesSubplot at 0xa2c45240>"
      ]
     },
     "execution_count": 19,
     "metadata": {},
     "output_type": "execute_result"
    },
    {
     "data": {
      "image/png": "[encoded data removed]",
      "text/plain": [
       "<matplotlib.figure.Figure at 0xa8c3b0b8>"
      ]
     },
     "metadata": {},
     "output_type": "display_data"
    }
   ],
   "source": [
    "sns.boxplot(data=Avg_Time1day, y = \"Difference\")\n",
    "#plot boxplot of time distribution "
   ]
  },
  {
   "cell_type": "markdown",
   "metadata": {},
   "source": [
    "Subsetting the data into one day eliminate the outliers to narrow the data within a day. Running this analysis shows an average answer time of 1 hour and 39 minutes, which is a relatively fast time to address an issue. However, many outliers still exist, so it would be a good idea to subset further. "
   ]
  },
  {
   "cell_type": "code",
   "execution_count": 20,
   "metadata": {
    "collapsed": true
   },
   "outputs": [],
   "source": [
    "Avg_Time1hr = Avg_Time[Avg_Time['Difference']<'01:00:00']\n",
    "Avg_Time1hr = Avg_Time1hr[Avg_Time1hr['Difference']>'00:00:00']\n",
    "#limit the average to 1 hour"
   ]
  },
  {
   "cell_type": "code",
   "execution_count": 21,
   "metadata": {},
   "outputs": [
    {
     "data": {
      "text/plain": [
       "Timedelta('0 days 00:14:37.080346')"
      ]
     },
     "execution_count": 21,
     "metadata": {},
     "output_type": "execute_result"
    }
   ],
   "source": [
    "(Avg_Time1hr['Difference']).mean()\n",
    "#print mean"
   ]
  },
  {
   "cell_type": "code",
   "execution_count": 22,
   "metadata": {},
   "outputs": [
    {
     "data": {
      "text/plain": [
       "<matplotlib.axes._subplots.AxesSubplot at 0x96dce320>"
      ]
     },
     "execution_count": 22,
     "metadata": {},
     "output_type": "execute_result"
    },
    {
     "data": {
      "image/png": "[encoded data removed]",
      "text/plain": [
       "<matplotlib.figure.Figure at 0xa28a1908>"
      ]
     },
     "metadata": {},
     "output_type": "display_data"
    }
   ],
   "source": [
    "sns.boxplot(data=Avg_Time1hr, y = \"Difference\")\n",
    "#plot boxplot of time distribution "
   ]
  },
  {
   "cell_type": "markdown",
   "metadata": {},
   "source": [
    "Subsetting the data further to 1 hour shows a more narrowed dataset and a clearer visual on the average time range. The y axis corresponds to the percentage of a day, with about 4% of a day being an hour. Given a one hour range, the box plot depicts a range of around 5-18 minutes. That being said, this is the expected time that it would take for a question to be answered"
   ]
  },
  {
   "cell_type": "markdown",
   "metadata": {},
   "source": [
    "According to the data, the average number of days for a question to be answered is 8.5 days. This number seems large, but the data is skewed, by outliers, as shown in the box and whisker plot. The median number is a better measure of performance, which is within the day range."
   ]
  },
  {
   "cell_type": "markdown",
   "metadata": {},
   "source": [
    "#### Most Common Topics Asked by Users"
   ]
  },
  {
   "cell_type": "markdown",
   "metadata": {},
   "source": [
    "Knowing when and how quickly questions are posted and addressed is important, but what about the content of these questions? Using text mining, we wish to discover common taglines that correspond to topics related to python. The more a tag shows up within a title of a question, the more it is used and asked about by programmers. This popularity index will reveal the topics that are inquired about most, and help us discover the topics that students of python are interested in learning more about."
   ]
  },
  {
   "cell_type": "code",
   "execution_count": 23,
   "metadata": {
    "collapsed": true
   },
   "outputs": [],
   "source": [
    "Q.head()  \n",
    "merged = Q.merge(tags,on='Id',how='left')  \n",
    "#merge questions and tags datasets\n",
    "merged_score = merged[['Score','Tag']].copy()  \n",
    "#access the two columns of the dataframe and return a copy of it"
   ]
  },
  {
   "cell_type": "code",
   "execution_count": 24,
   "metadata": {},
   "outputs": [
    {
     "data": {
      "text/html": [
       "<div>\n",
       "<style>\n",
       "    .dataframe thead tr:only-child th {\n",
       "        text-align: right;\n",
       "    }\n",
       "\n",
       "    .dataframe thead th {\n",
       "        text-align: left;\n",
       "    }\n",
       "\n",
       "    .dataframe tbody tr th {\n",
       "        vertical-align: top;\n",
       "    }\n",
       "</style>\n",
       "<table border=\"1\" class=\"dataframe\">\n",
       "  <thead>\n",
       "    <tr style=\"text-align: right;\">\n",
       "      <th></th>\n",
       "      <th>Tag</th>\n",
       "      <th>Id</th>\n",
       "    </tr>\n",
       "  </thead>\n",
       "  <tbody>\n",
       "    <tr>\n",
       "      <th>0</th>\n",
       "      <td>python</td>\n",
       "      <td>607283</td>\n",
       "    </tr>\n",
       "    <tr>\n",
       "      <th>1</th>\n",
       "      <td>django</td>\n",
       "      <td>62818</td>\n",
       "    </tr>\n",
       "    <tr>\n",
       "      <th>2</th>\n",
       "      <td>python-2.7</td>\n",
       "      <td>34616</td>\n",
       "    </tr>\n",
       "    <tr>\n",
       "      <th>3</th>\n",
       "      <td>pandas</td>\n",
       "      <td>26854</td>\n",
       "    </tr>\n",
       "    <tr>\n",
       "      <th>4</th>\n",
       "      <td>python-3.x</td>\n",
       "      <td>26814</td>\n",
       "    </tr>\n",
       "    <tr>\n",
       "      <th>5</th>\n",
       "      <td>numpy</td>\n",
       "      <td>25848</td>\n",
       "    </tr>\n",
       "    <tr>\n",
       "      <th>6</th>\n",
       "      <td>list</td>\n",
       "      <td>18951</td>\n",
       "    </tr>\n",
       "    <tr>\n",
       "      <th>7</th>\n",
       "      <td>matplotlib</td>\n",
       "      <td>16521</td>\n",
       "    </tr>\n",
       "    <tr>\n",
       "      <th>8</th>\n",
       "      <td>regex</td>\n",
       "      <td>14047</td>\n",
       "    </tr>\n",
       "    <tr>\n",
       "      <th>9</th>\n",
       "      <td>dictionary</td>\n",
       "      <td>13413</td>\n",
       "    </tr>\n",
       "    <tr>\n",
       "      <th>10</th>\n",
       "      <td>tkinter</td>\n",
       "      <td>10766</td>\n",
       "    </tr>\n",
       "    <tr>\n",
       "      <th>11</th>\n",
       "      <td>string</td>\n",
       "      <td>10616</td>\n",
       "    </tr>\n",
       "    <tr>\n",
       "      <th>12</th>\n",
       "      <td>flask</td>\n",
       "      <td>10488</td>\n",
       "    </tr>\n",
       "    <tr>\n",
       "      <th>13</th>\n",
       "      <td>google-app-engine</td>\n",
       "      <td>10286</td>\n",
       "    </tr>\n",
       "    <tr>\n",
       "      <th>14</th>\n",
       "      <td>csv</td>\n",
       "      <td>9323</td>\n",
       "    </tr>\n",
       "    <tr>\n",
       "      <th>15</th>\n",
       "      <td>arrays</td>\n",
       "      <td>9170</td>\n",
       "    </tr>\n",
       "    <tr>\n",
       "      <th>16</th>\n",
       "      <td>json</td>\n",
       "      <td>8023</td>\n",
       "    </tr>\n",
       "    <tr>\n",
       "      <th>17</th>\n",
       "      <td>mysql</td>\n",
       "      <td>7529</td>\n",
       "    </tr>\n",
       "    <tr>\n",
       "      <th>18</th>\n",
       "      <td>linux</td>\n",
       "      <td>7121</td>\n",
       "    </tr>\n",
       "    <tr>\n",
       "      <th>19</th>\n",
       "      <td>html</td>\n",
       "      <td>7118</td>\n",
       "    </tr>\n",
       "  </tbody>\n",
       "</table>\n",
       "</div>"
      ],
      "text/plain": [
       "                  Tag      Id\n",
       "0              python  607283\n",
       "1              django   62818\n",
       "2          python-2.7   34616\n",
       "3              pandas   26854\n",
       "4          python-3.x   26814\n",
       "5               numpy   25848\n",
       "6                list   18951\n",
       "7          matplotlib   16521\n",
       "8               regex   14047\n",
       "9          dictionary   13413\n",
       "10            tkinter   10766\n",
       "11             string   10616\n",
       "12              flask   10488\n",
       "13  google-app-engine   10286\n",
       "14                csv    9323\n",
       "15             arrays    9170\n",
       "16               json    8023\n",
       "17              mysql    7529\n",
       "18              linux    7121\n",
       "19               html    7118"
      ]
     },
     "execution_count": 24,
     "metadata": {},
     "output_type": "execute_result"
    }
   ],
   "source": [
    "tags_df = tags.groupby('Tag',as_index = False).count() \n",
    "#return the number of Ids under each tag\n",
    "tags_df = tags_df.sort_values(['Id'], ascending=False)  \n",
    "#sort the data in descending value of the number of Ids under each tag\n",
    "tags_df = tags_df.reset_index(drop = True)  \n",
    "#reset the index to the default integer index\n",
    "tags_top = tags_df[:20]    \n",
    "tags_top.head(n=20)  #list top 20 tags"
   ]
  },
  {
   "cell_type": "markdown",
   "metadata": {},
   "source": [
    "Using the merged datasets, we text mined the questions in order to find the tags that appeared the most throughout the dataset, and their corresponding frequency of input, which are listed above. We also found the tags that belonged to the questions with the highest scores, but this information was irrelevant due to the randomness of the score distribution. However, question score became a variable in performing our predictive analysis of a good or bad question further in the report.\n",
    "The tags that are most popular are the ones that are typically taught earlier on in pyton cirriculum. More users are asking these questions because these are fundamental python functions. The more advanced functions are less frequent, but still important aspects of python as they have generated thousands of questions as well."
   ]
  },
  {
   "cell_type": "markdown",
   "metadata": {},
   "source": [
    "#### Plotting the Trends of Seven Top Topics"
   ]
  },
  {
   "cell_type": "markdown",
   "metadata": {},
   "source": [
    "In furtherance of finding the most questioned taglines, we wish to illustrate the changes that seven of these topics underwent over the several years of Stack Overflow's existence. This information will provide insight on when and to what degree each topic became popular. The dates of the posted questions will be used to determine this trend."
   ]
  },
  {
   "cell_type": "code",
   "execution_count": 25,
   "metadata": {},
   "outputs": [
    {
     "name": "stderr",
     "output_type": "stream",
     "text": [
      "C:\\Users\\Doug\\Anaconda2\\lib\\site-packages\\ipykernel_launcher.py:6: SettingWithCopyWarning: \n",
      "A value is trying to be set on a copy of a slice from a DataFrame.\n",
      "Try using .loc[row_indexer,col_indexer] = value instead\n",
      "\n",
      "See the caveats in the documentation: http://pandas.pydata.org/pandas-docs/stable/indexing.html#indexing-view-versus-copy\n",
      "  \n"
     ]
    },
    {
     "data": {
      "text/html": [
       "<div>\n",
       "<style>\n",
       "    .dataframe thead tr:only-child th {\n",
       "        text-align: right;\n",
       "    }\n",
       "\n",
       "    .dataframe thead th {\n",
       "        text-align: left;\n",
       "    }\n",
       "\n",
       "    .dataframe tbody tr th {\n",
       "        vertical-align: top;\n",
       "    }\n",
       "</style>\n",
       "<table border=\"1\" class=\"dataframe\">\n",
       "  <thead>\n",
       "    <tr style=\"text-align: right;\">\n",
       "      <th></th>\n",
       "      <th>Id</th>\n",
       "      <th>Score</th>\n",
       "      <th>CreationDate</th>\n",
       "      <th>Tag</th>\n",
       "      <th>Year</th>\n",
       "      <th>Month</th>\n",
       "      <th>Date</th>\n",
       "    </tr>\n",
       "  </thead>\n",
       "  <tbody>\n",
       "    <tr>\n",
       "      <th>17</th>\n",
       "      <td>683</td>\n",
       "      <td>28</td>\n",
       "      <td>2008-08-03 13:19:16</td>\n",
       "      <td>arrays</td>\n",
       "      <td>2008</td>\n",
       "      <td>8</td>\n",
       "      <td>2008-08-03</td>\n",
       "    </tr>\n",
       "    <tr>\n",
       "      <th>265376</th>\n",
       "      <td>9296658</td>\n",
       "      <td>9</td>\n",
       "      <td>2012-02-15 15:55:58</td>\n",
       "      <td>arrays</td>\n",
       "      <td>2012</td>\n",
       "      <td>2</td>\n",
       "      <td>2012-02-15</td>\n",
       "    </tr>\n",
       "    <tr>\n",
       "      <th>265382</th>\n",
       "      <td>9296893</td>\n",
       "      <td>2</td>\n",
       "      <td>2012-02-15 16:10:18</td>\n",
       "      <td>arrays</td>\n",
       "      <td>2012</td>\n",
       "      <td>2</td>\n",
       "      <td>2012-02-15</td>\n",
       "    </tr>\n",
       "    <tr>\n",
       "      <th>1806831</th>\n",
       "      <td>39156458</td>\n",
       "      <td>-2</td>\n",
       "      <td>2016-08-25 23:58:27</td>\n",
       "      <td>arrays</td>\n",
       "      <td>2016</td>\n",
       "      <td>8</td>\n",
       "      <td>2016-08-25</td>\n",
       "    </tr>\n",
       "    <tr>\n",
       "      <th>830158</th>\n",
       "      <td>23345715</td>\n",
       "      <td>2</td>\n",
       "      <td>2014-04-28 15:56:13</td>\n",
       "      <td>arrays</td>\n",
       "      <td>2014</td>\n",
       "      <td>4</td>\n",
       "      <td>2014-04-28</td>\n",
       "    </tr>\n",
       "  </tbody>\n",
       "</table>\n",
       "</div>"
      ],
      "text/plain": [
       "               Id  Score        CreationDate     Tag  Year  Month        Date\n",
       "17            683     28 2008-08-03 13:19:16  arrays  2008      8  2008-08-03\n",
       "265376    9296658      9 2012-02-15 15:55:58  arrays  2012      2  2012-02-15\n",
       "265382    9296893      2 2012-02-15 16:10:18  arrays  2012      2  2012-02-15\n",
       "1806831  39156458     -2 2016-08-25 23:58:27  arrays  2016      8  2016-08-25\n",
       "830158   23345715      2 2014-04-28 15:56:13  arrays  2014      4  2014-04-28"
      ]
     },
     "execution_count": 25,
     "metadata": {},
     "output_type": "execute_result"
    }
   ],
   "source": [
    "tagsNeeded = ['pandas','numpy','list','matplotlib','dictionary','string','arrays']\n",
    "# dataset for specific 7 common topics\n",
    "\n",
    "filData = merged[['Id','Score','CreationDate','Tag']]  \n",
    "# get a shallow copy of the four columns\n",
    "filData['CreationDate'] = pd.to_datetime(filData['CreationDate']) \n",
    "# parse CreationDate into a datetime object\n",
    "filData = filData[filData['Tag'].isin(tagsNeeded)]\n",
    "# select only rows what tag is in the tagsNeeded list\n",
    "filData = filData.sort_values(['Tag'], ascending = True) \n",
    "# sort the data by the Tag column in ascending order\n",
    "filData['Year'] = pd.DatetimeIndex(filData['CreationDate']).year \n",
    "# create a Year column, containing only the year of the CreationDate\n",
    "filData['Month'] = pd.DatetimeIndex(filData['CreationDate']).month \n",
    "# create a Month column, containing only the year of the CreationDate\n",
    "filData['Date'] = pd.DatetimeIndex(filData['CreationDate']).date \n",
    "# create a Date column, containing only the year of the CreationDate\n",
    "\n",
    "filData.head(5)"
   ]
  },
  {
   "cell_type": "code",
   "execution_count": 26,
   "metadata": {},
   "outputs": [
    {
     "data": {
      "text/html": [
       "<div>\n",
       "<style>\n",
       "    .dataframe thead tr:only-child th {\n",
       "        text-align: right;\n",
       "    }\n",
       "\n",
       "    .dataframe thead th {\n",
       "        text-align: left;\n",
       "    }\n",
       "\n",
       "    .dataframe tbody tr th {\n",
       "        vertical-align: top;\n",
       "    }\n",
       "</style>\n",
       "<table border=\"1\" class=\"dataframe\">\n",
       "  <thead>\n",
       "    <tr style=\"text-align: right;\">\n",
       "      <th></th>\n",
       "      <th>Tag</th>\n",
       "      <th>Year</th>\n",
       "      <th>Id</th>\n",
       "    </tr>\n",
       "  </thead>\n",
       "  <tbody>\n",
       "    <tr>\n",
       "      <th>0</th>\n",
       "      <td>arrays</td>\n",
       "      <td>2008</td>\n",
       "      <td>11</td>\n",
       "    </tr>\n",
       "    <tr>\n",
       "      <th>1</th>\n",
       "      <td>arrays</td>\n",
       "      <td>2009</td>\n",
       "      <td>66</td>\n",
       "    </tr>\n",
       "    <tr>\n",
       "      <th>2</th>\n",
       "      <td>arrays</td>\n",
       "      <td>2010</td>\n",
       "      <td>173</td>\n",
       "    </tr>\n",
       "    <tr>\n",
       "      <th>3</th>\n",
       "      <td>arrays</td>\n",
       "      <td>2011</td>\n",
       "      <td>335</td>\n",
       "    </tr>\n",
       "    <tr>\n",
       "      <th>4</th>\n",
       "      <td>arrays</td>\n",
       "      <td>2012</td>\n",
       "      <td>526</td>\n",
       "    </tr>\n",
       "  </tbody>\n",
       "</table>\n",
       "</div>"
      ],
      "text/plain": [
       "      Tag  Year   Id\n",
       "0  arrays  2008   11\n",
       "1  arrays  2009   66\n",
       "2  arrays  2010  173\n",
       "3  arrays  2011  335\n",
       "4  arrays  2012  526"
      ]
     },
     "execution_count": 26,
     "metadata": {},
     "output_type": "execute_result"
    }
   ],
   "source": [
    "import datetime as dt\n",
    "#assign a date and time to the data in order to plot the time series\n",
    "filDataGroup = filData.groupby(['Tag',\"Year\"],as_index = False).Id.count() \n",
    "# group rows with the same Tag and Year together, then count them\n",
    "filDataExp = filData.groupby(['Tag','Date'],as_index = False).count() \n",
    "# group rows with the same Tag and Date together, then count them\n",
    "filDataExp = filDataExp.drop(['Score','CreationDate'],axis=1,inplace=True) \n",
    "#drop the two columns named 'Score' and 'CreationDate'\n",
    "filDataGroup.head()                                                                              "
   ]
  },
  {
   "cell_type": "code",
   "execution_count": 27,
   "metadata": {},
   "outputs": [
    {
     "data": {
      "text/plain": [
       "array(['arrays', 'dictionary', 'list', 'matplotlib', 'numpy', 'pandas',\n",
       "       'string'], dtype=object)"
      ]
     },
     "execution_count": 27,
     "metadata": {},
     "output_type": "execute_result"
    }
   ],
   "source": [
    "np.unique(filDataGroup['Tag'])  \n",
    "# display unique tags in the dataframe"
   ]
  },
  {
   "cell_type": "code",
   "execution_count": 28,
   "metadata": {},
   "outputs": [
    {
     "data": {
      "text/html": [
       "\n",
       "    <div class=\"bk-root\">\n",
       "        <a href=\"http://bokeh.pydata.org\" target=\"_blank\" class=\"bk-logo bk-logo-small bk-logo-notebook\"></a>\n",
       "        <span id=\"f6ee3a61-6fa8-4860-94ce-0475a51f4ebd\">Loading BokehJS ...</span>\n",
       "    </div>"
      ]
     },
     "metadata": {},
     "output_type": "display_data"
    },
    {
     "data": {
      "application/javascript": [
       "\n",
       "(function(global) {\n",
       "  function now() {\n",
       "    return new Date();\n",
       "  }\n",
       "\n",
       "  var force = true;\n",
       "\n",
       "  if (typeof (window._bokeh_onload_callbacks) === \"undefined\" || force === true) {\n",
       "    window._bokeh_onload_callbacks = [];\n",
       "    window._bokeh_is_loading = undefined;\n",
       "  }\n",
       "\n",
       "\n",
       "  \n",
       "  if (typeof (window._bokeh_timeout) === \"undefined\" || force === true) {\n",
       "    window._bokeh_timeout = Date.now() + 5000;\n",
       "    window._bokeh_failed_load = false;\n",
       "  }\n",
       "\n",
       "  var NB_LOAD_WARNING = {'data': {'text/html':\n",
       "     \"<div style='background-color: #fdd'>\\n\"+\n",
       "     \"<p>\\n\"+\n",
       "     \"BokehJS does not appear to have successfully loaded. If loading BokehJS from CDN, this \\n\"+\n",
       "     \"may be due to a slow or bad network connection. Possible fixes:\\n\"+\n",
       "     \"</p>\\n\"+\n",
       "     \"<ul>\\n\"+\n",
       "     \"<li>re-rerun `output_notebook()` to attempt to load from CDN again, or</li>\\n\"+\n",
       "     \"<li>use INLINE resources instead, as so:</li>\\n\"+\n",
       "     \"</ul>\\n\"+\n",
       "     \"<code>\\n\"+\n",
       "     \"from bokeh.resources import INLINE\\n\"+\n",
       "     \"output_notebook(resources=INLINE)\\n\"+\n",
       "     \"</code>\\n\"+\n",
       "     \"</div>\"}};\n",
       "\n",
       "  function display_loaded() {\n",
       "    if (window.Bokeh !== undefined) {\n",
       "      var el = document.getElementById(\"f6ee3a61-6fa8-4860-94ce-0475a51f4ebd\");\n",
       "      el.textContent = \"BokehJS \" + Bokeh.version + \" successfully loaded.\";\n",
       "    } else if (Date.now() < window._bokeh_timeout) {\n",
       "      setTimeout(display_loaded, 100)\n",
       "    }\n",
       "  }\n",
       "\n",
       "  function run_callbacks() {\n",
       "    window._bokeh_onload_callbacks.forEach(function(callback) { callback() });\n",
       "    delete window._bokeh_onload_callbacks\n",
       "    console.info(\"Bokeh: all callbacks have finished\");\n",
       "  }\n",
       "\n",
       "  function load_libs(js_urls, callback) {\n",
       "    window._bokeh_onload_callbacks.push(callback);\n",
       "    if (window._bokeh_is_loading > 0) {\n",
       "      console.log(\"Bokeh: BokehJS is being loaded, scheduling callback at\", now());\n",
       "      return null;\n",
       "    }\n",
       "    if (js_urls == null || js_urls.length === 0) {\n",
       "      run_callbacks();\n",
       "      return null;\n",
       "    }\n",
       "    console.log(\"Bokeh: BokehJS not loaded, scheduling load and callback at\", now());\n",
       "    window._bokeh_is_loading = js_urls.length;\n",
       "    for (var i = 0; i < js_urls.length; i++) {\n",
       "      var url = js_urls[i];\n",
       "      var s = document.createElement('script');\n",
       "      s.src = url;\n",
       "      s.async = false;\n",
       "      s.onreadystatechange = s.onload = function() {\n",
       "        window._bokeh_is_loading--;\n",
       "        if (window._bokeh_is_loading === 0) {\n",
       "          console.log(\"Bokeh: all BokehJS libraries loaded\");\n",
       "          run_callbacks()\n",
       "        }\n",
       "      };\n",
       "      s.onerror = function() {\n",
       "        console.warn(\"failed to load library \" + url);\n",
       "      };\n",
       "      console.log(\"Bokeh: injecting script tag for BokehJS library: \", url);\n",
       "      document.getElementsByTagName(\"head\")[0].appendChild(s);\n",
       "    }\n",
       "  };var element = document.getElementById(\"f6ee3a61-6fa8-4860-94ce-0475a51f4ebd\");\n",
       "  if (element == null) {\n",
       "    console.log(\"Bokeh: ERROR: autoload.js configured with elementid 'f6ee3a61-6fa8-4860-94ce-0475a51f4ebd' but no matching script tag was found. \")\n",
       "    return false;\n",
       "  }\n",
       "\n",
       "  var js_urls = [\"https://cdn.pydata.org/bokeh/release/bokeh-0.12.5.min.js\", \"https://cdn.pydata.org/bokeh/release/bokeh-widgets-0.12.5.min.js\"];\n",
       "\n",
       "  var inline_js = [\n",
       "    function(Bokeh) {\n",
       "      Bokeh.set_log_level(\"info\");\n",
       "    },\n",
       "    \n",
       "    function(Bokeh) {\n",
       "      \n",
       "    },\n",
       "    \n",
       "    function(Bokeh) {\n",
       "      \n",
       "      document.getElementById(\"f6ee3a61-6fa8-4860-94ce-0475a51f4ebd\").textContent = \"BokehJS is loading...\";\n",
       "    },\n",
       "    function(Bokeh) {\n",
       "      console.log(\"Bokeh: injecting CSS: https://cdn.pydata.org/bokeh/release/bokeh-0.12.5.min.css\");\n",
       "      Bokeh.embed.inject_css(\"https://cdn.pydata.org/bokeh/release/bokeh-0.12.5.min.css\");\n",
       "      console.log(\"Bokeh: injecting CSS: https://cdn.pydata.org/bokeh/release/bokeh-widgets-0.12.5.min.css\");\n",
       "      Bokeh.embed.inject_css(\"https://cdn.pydata.org/bokeh/release/bokeh-widgets-0.12.5.min.css\");\n",
       "    }\n",
       "  ];\n",
       "\n",
       "  function run_inline_js() {\n",
       "    \n",
       "    if ((window.Bokeh !== undefined) || (force === true)) {\n",
       "      for (var i = 0; i < inline_js.length; i++) {\n",
       "        inline_js[i](window.Bokeh);\n",
       "      }if (force === true) {\n",
       "        display_loaded();\n",
       "      }} else if (Date.now() < window._bokeh_timeout) {\n",
       "      setTimeout(run_inline_js, 100);\n",
       "    } else if (!window._bokeh_failed_load) {\n",
       "      console.log(\"Bokeh: BokehJS failed to load within specified timeout.\");\n",
       "      window._bokeh_failed_load = true;\n",
       "    } else if (force !== true) {\n",
       "      var cell = $(document.getElementById(\"f6ee3a61-6fa8-4860-94ce-0475a51f4ebd\")).parents('.cell').data().cell;\n",
       "      cell.output_area.append_execute_result(NB_LOAD_WARNING)\n",
       "    }\n",
       "\n",
       "  }\n",
       "\n",
       "  if (window._bokeh_is_loading === 0) {\n",
       "    console.log(\"Bokeh: BokehJS loaded, going straight to plotting\");\n",
       "    run_inline_js();\n",
       "  } else {\n",
       "    load_libs(js_urls, function() {\n",
       "      console.log(\"Bokeh: BokehJS plotting callback run at\", now());\n",
       "      run_inline_js();\n",
       "    });\n",
       "  }\n",
       "}(this));"
      ]
     },
     "metadata": {},
     "output_type": "display_data"
    },
    {
     "data": {
      "text/html": [
       "\n",
       "\n",
       "    <div class=\"bk-root\">\n",
       "        <div class=\"bk-plotdiv\" id=\"ea8610e6-467d-4cf5-8935-a8bb28ac4986\"></div>\n",
       "    </div>\n",
       "<script type=\"text/javascript\">\n",
       "  \n",
       "  (function(global) {\n",
       "    function now() {\n",
       "      return new Date();\n",
       "    }\n",
       "  \n",
       "    var force = false;\n",
       "  \n",
       "    if (typeof (window._bokeh_onload_callbacks) === \"undefined\" || force === true) {\n",
       "      window._bokeh_onload_callbacks = [];\n",
       "      window._bokeh_is_loading = undefined;\n",
       "    }\n",
       "  \n",
       "  \n",
       "    \n",
       "    if (typeof (window._bokeh_timeout) === \"undefined\" || force === true) {\n",
       "      window._bokeh_timeout = Date.now() + 0;\n",
       "      window._bokeh_failed_load = false;\n",
       "    }\n",
       "  \n",
       "    var NB_LOAD_WARNING = {'data': {'text/html':\n",
       "       \"<div style='background-color: #fdd'>\\n\"+\n",
       "       \"<p>\\n\"+\n",
       "       \"BokehJS does not appear to have successfully loaded. If loading BokehJS from CDN, this \\n\"+\n",
       "       \"may be due to a slow or bad network connection. Possible fixes:\\n\"+\n",
       "       \"</p>\\n\"+\n",
       "       \"<ul>\\n\"+\n",
       "       \"<li>re-rerun `output_notebook()` to attempt to load from CDN again, or</li>\\n\"+\n",
       "       \"<li>use INLINE resources instead, as so:</li>\\n\"+\n",
       "       \"</ul>\\n\"+\n",
       "       \"<code>\\n\"+\n",
       "       \"from bokeh.resources import INLINE\\n\"+\n",
       "       \"output_notebook(resources=INLINE)\\n\"+\n",
       "       \"</code>\\n\"+\n",
       "       \"</div>\"}};\n",
       "  \n",
       "    function display_loaded() {\n",
       "      if (window.Bokeh !== undefined) {\n",
       "        var el = document.getElementById(\"ea8610e6-467d-4cf5-8935-a8bb28ac4986\");\n",
       "        el.textContent = \"BokehJS \" + Bokeh.version + \" successfully loaded.\";\n",
       "      } else if (Date.now() < window._bokeh_timeout) {\n",
       "        setTimeout(display_loaded, 100)\n",
       "      }\n",
       "    }\n",
       "  \n",
       "    function run_callbacks() {\n",
       "      window._bokeh_onload_callbacks.forEach(function(callback) { callback() });\n",
       "      delete window._bokeh_onload_callbacks\n",
       "      console.info(\"Bokeh: all callbacks have finished\");\n",
       "    }\n",
       "  \n",
       "    function load_libs(js_urls, callback) {\n",
       "      window._bokeh_onload_callbacks.push(callback);\n",
       "      if (window._bokeh_is_loading > 0) {\n",
       "        console.log(\"Bokeh: BokehJS is being loaded, scheduling callback at\", now());\n",
       "        return null;\n",
       "      }\n",
       "      if (js_urls == null || js_urls.length === 0) {\n",
       "        run_callbacks();\n",
       "        return null;\n",
       "      }\n",
       "      console.log(\"Bokeh: BokehJS not loaded, scheduling load and callback at\", now());\n",
       "      window._bokeh_is_loading = js_urls.length;\n",
       "      for (var i = 0; i < js_urls.length; i++) {\n",
       "        var url = js_urls[i];\n",
       "        var s = document.createElement('script');\n",
       "        s.src = url;\n",
       "        s.async = false;\n",
       "        s.onreadystatechange = s.onload = function() {\n",
       "          window._bokeh_is_loading--;\n",
       "          if (window._bokeh_is_loading === 0) {\n",
       "            console.log(\"Bokeh: all BokehJS libraries loaded\");\n",
       "            run_callbacks()\n",
       "          }\n",
       "        };\n",
       "        s.onerror = function() {\n",
       "          console.warn(\"failed to load library \" + url);\n",
       "        };\n",
       "        console.log(\"Bokeh: injecting script tag for BokehJS library: \", url);\n",
       "        document.getElementsByTagName(\"head\")[0].appendChild(s);\n",
       "      }\n",
       "    };var element = document.getElementById(\"ea8610e6-467d-4cf5-8935-a8bb28ac4986\");\n",
       "    if (element == null) {\n",
       "      console.log(\"Bokeh: ERROR: autoload.js configured with elementid 'ea8610e6-467d-4cf5-8935-a8bb28ac4986' but no matching script tag was found. \")\n",
       "      return false;\n",
       "    }\n",
       "  \n",
       "    var js_urls = [];\n",
       "  \n",
       "    var inline_js = [\n",
       "      function(Bokeh) {\n",
       "        (function() {\n",
       "          var fn = function() {\n",
       "            var docs_json = {\"f937dfc7-6c89-41da-9add-9d6372cd8b5e\":{\"roots\":{\"references\":[{\"attributes\":{\"callback\":null,\"column_names\":[\"x_values\",\"y_values\"],\"data\":{\"Tag\":[\"numpy\",\"numpy\",\"numpy\",\"numpy\",\"numpy\",\"numpy\",\"numpy\",\"numpy\",\"numpy\"],\"chart_index\":[{\"Tag\":\"numpy\"},{\"Tag\":\"numpy\"},{\"Tag\":\"numpy\"},{\"Tag\":\"numpy\"},{\"Tag\":\"numpy\"},{\"Tag\":\"numpy\"},{\"Tag\":\"numpy\"},{\"Tag\":\"numpy\"},{\"Tag\":\"numpy\"}],\"x_values\":[2008,2009,2010,2011,2012,2013,2014,2015,2016],\"y_values\":[11,154,492,1102,2075,3859,5183,6336,6636]}},\"id\":\"64459924-ec2e-484a-b35c-3c24e58969a3\",\"type\":\"ColumnDataSource\"},{\"attributes\":{\"data_source\":{\"id\":\"64459924-ec2e-484a-b35c-3c24e58969a3\",\"type\":\"ColumnDataSource\"},\"glyph\":{\"id\":\"d261c518-5275-423e-a52a-18a342051c70\",\"type\":\"Line\"},\"hover_glyph\":null,\"muted_glyph\":null},\"id\":\"bff10912-81fe-4d85-ac00-214565fb1bc0\",\"type\":\"GlyphRenderer\"},{\"attributes\":{\"line_color\":{\"value\":\"blue\"},\"line_width\":{\"value\":2},\"x\":{\"field\":\"x_values\"},\"y\":{\"field\":\"y_values\"}},\"id\":\"d43a4f7f-9222-4291-8b2d-d6213522b7e6\",\"type\":\"Line\"},{\"attributes\":{\"callback\":null,\"column_names\":[\"x_values\",\"y_values\"],\"data\":{\"Tag\":[\"dictionary\",\"dictionary\",\"dictionary\",\"dictionary\",\"dictionary\",\"dictionary\",\"dictionary\",\"dictionary\",\"dictionary\"],\"chart_index\":[{\"Tag\":\"dictionary\"},{\"Tag\":\"dictionary\"},{\"Tag\":\"dictionary\"},{\"Tag\":\"dictionary\"},{\"Tag\":\"dictionary\"},{\"Tag\":\"dictionary\"},{\"Tag\":\"dictionary\"},{\"Tag\":\"dictionary\"},{\"Tag\":\"dictionary\"}],\"x_values\":[2008,2009,2010,2011,2012,2013,2014,2015,2016],\"y_values\":[28,154,412,681,1154,2050,2714,3340,2880]}},\"id\":\"59fb7292-ab2f-48b9-afc9-7defb08a093e\",\"type\":\"ColumnDataSource\"},{\"attributes\":{\"callback\":null,\"column_names\":[\"x_values\",\"y_values\"],\"data\":{\"Tag\":[\"string\",\"string\",\"string\",\"string\",\"string\",\"string\",\"string\",\"string\",\"string\"],\"chart_index\":[{\"Tag\":\"string\"},{\"Tag\":\"string\"},{\"Tag\":\"string\"},{\"Tag\":\"string\"},{\"Tag\":\"string\"},{\"Tag\":\"string\"},{\"Tag\":\"string\"},{\"Tag\":\"string\"},{\"Tag\":\"string\"}],\"x_values\":[2008,2009,2010,2011,2012,2013,2014,2015,2016],\"y_values\":[38,243,530,794,1119,1805,2155,2234,1698]}},\"id\":\"f2613937-1329-4fef-843b-5536806ff4f5\",\"type\":\"ColumnDataSource\"},{\"attributes\":{\"data_source\":{\"id\":\"59fb7292-ab2f-48b9-afc9-7defb08a093e\",\"type\":\"ColumnDataSource\"},\"glyph\":{\"id\":\"459d5e15-6035-4363-b2e1-3ed77ac01462\",\"type\":\"Line\"},\"hover_glyph\":null,\"muted_glyph\":null},\"id\":\"d0c5e17f-3448-4428-a0c6-4a0903315cf0\",\"type\":\"GlyphRenderer\"},{\"attributes\":{\"line_color\":{\"value\":\"green\"},\"line_width\":{\"value\":2},\"x\":{\"field\":\"x_values\"},\"y\":{\"field\":\"y_values\"}},\"id\":\"459d5e15-6035-4363-b2e1-3ed77ac01462\",\"type\":\"Line\"},{\"attributes\":{\"label\":{\"value\":\"list\"},\"renderers\":[{\"id\":\"50154f05-cc2a-4622-a7f6-899a0d1d06dc\",\"type\":\"GlyphRenderer\"}]},\"id\":\"48d8bed7-b9a0-4ea4-9fca-2889f699c386\",\"type\":\"LegendItem\"},{\"attributes\":{\"data_source\":{\"id\":\"c434e10b-9a6a-4460-a641-bd334fb2359d\",\"type\":\"ColumnDataSource\"},\"glyph\":{\"id\":\"d43a4f7f-9222-4291-8b2d-d6213522b7e6\",\"type\":\"Line\"},\"hover_glyph\":null,\"muted_glyph\":null},\"id\":\"50154f05-cc2a-4622-a7f6-899a0d1d06dc\",\"type\":\"GlyphRenderer\"},{\"attributes\":{\"data_source\":{\"id\":\"0b18eb3c-ccb1-4bde-ba24-38f1691a0652\",\"type\":\"ColumnDataSource\"},\"glyph\":{\"id\":\"e0cbc18f-ae92-46a6-9dfe-c451fcd8f265\",\"type\":\"Line\"},\"hover_glyph\":null,\"muted_glyph\":null},\"id\":\"22524e1a-cff1-4354-9c02-f4262c4a8d45\",\"type\":\"GlyphRenderer\"},{\"attributes\":{\"label\":{\"value\":\"arrays\"},\"renderers\":[{\"id\":\"b279cc61-0904-48e8-8fe4-0735bdc8c843\",\"type\":\"GlyphRenderer\"}]},\"id\":\"f79e336f-dd7a-45a7-bd2c-85172ee843e3\",\"type\":\"LegendItem\"},{\"attributes\":{},\"id\":\"69feddae-a33e-405f-9759-07fa7104756f\",\"type\":\"BasicTickFormatter\"},{\"attributes\":{\"plot\":{\"id\":\"3d4fde63-4f4b-4f80-87d0-2e4e067da17d\",\"subtype\":\"Chart\",\"type\":\"Plot\"}},\"id\":\"340fd8e3-4220-4c3f-a3a4-ed2b42fc6532\",\"type\":\"WheelZoomTool\"},{\"attributes\":{},\"id\":\"40b1c486-42b6-42bb-9874-166842cf8828\",\"type\":\"ToolEvents\"},{\"attributes\":{\"line_color\":{\"value\":\"red\"},\"line_width\":{\"value\":2},\"x\":{\"field\":\"x_values\"},\"y\":{\"field\":\"y_values\"}},\"id\":\"f6abc1ca-2cb4-4e14-9933-16b3df9e8052\",\"type\":\"Line\"},{\"attributes\":{\"plot\":{\"id\":\"3d4fde63-4f4b-4f80-87d0-2e4e067da17d\",\"subtype\":\"Chart\",\"type\":\"Plot\"}},\"id\":\"21c29db2-6282-4193-81e9-e9dc1c5af7ef\",\"type\":\"HelpTool\"},{\"attributes\":{},\"id\":\"05e922b7-64fd-46b9-813d-b6aac2900afe\",\"type\":\"BasicTicker\"},{\"attributes\":{\"label\":{\"value\":\"matplotlib\"},\"renderers\":[{\"id\":\"d0100987-992a-48de-9f4f-ed49138134b4\",\"type\":\"GlyphRenderer\"}]},\"id\":\"4849fc61-40f9-44b6-9248-7c3c62e1a4a4\",\"type\":\"LegendItem\"},{\"attributes\":{\"axis_label\":\"Years\",\"formatter\":{\"id\":\"69feddae-a33e-405f-9759-07fa7104756f\",\"type\":\"BasicTickFormatter\"},\"plot\":{\"id\":\"3d4fde63-4f4b-4f80-87d0-2e4e067da17d\",\"subtype\":\"Chart\",\"type\":\"Plot\"},\"ticker\":{\"id\":\"05e922b7-64fd-46b9-813d-b6aac2900afe\",\"type\":\"BasicTicker\"}},\"id\":\"212550a1-73c4-4482-a8f1-5b9f7bd6f2c2\",\"type\":\"LinearAxis\"},{\"attributes\":{\"overlay\":{\"id\":\"0d64cb2e-5bf2-40fe-9c9f-42951d2711a7\",\"type\":\"BoxAnnotation\"},\"plot\":{\"id\":\"3d4fde63-4f4b-4f80-87d0-2e4e067da17d\",\"subtype\":\"Chart\",\"type\":\"Plot\"}},\"id\":\"0c8cb3c9-b760-4c08-a553-3b564a4ca0a3\",\"type\":\"BoxZoomTool\"},{\"attributes\":{\"dimension\":1,\"plot\":{\"id\":\"3d4fde63-4f4b-4f80-87d0-2e4e067da17d\",\"subtype\":\"Chart\",\"type\":\"Plot\"},\"ticker\":{\"id\":\"2634b748-6185-4beb-abdc-55a25e83530e\",\"type\":\"BasicTicker\"}},\"id\":\"3152d41f-fa6b-4b84-8258-d653b7652cb0\",\"type\":\"Grid\"},{\"attributes\":{},\"id\":\"2634b748-6185-4beb-abdc-55a25e83530e\",\"type\":\"BasicTicker\"},{\"attributes\":{\"data_source\":{\"id\":\"5a358d4d-efd8-4768-ad51-eb27d51b871d\",\"type\":\"ColumnDataSource\"},\"glyph\":{\"id\":\"a2351c04-71e8-4078-8003-5d9afa5fe225\",\"type\":\"Line\"},\"hover_glyph\":null,\"muted_glyph\":null},\"id\":\"d0100987-992a-48de-9f4f-ed49138134b4\",\"type\":\"GlyphRenderer\"},{\"attributes\":{\"line_color\":{\"value\":\"yellow\"},\"line_width\":{\"value\":2},\"x\":{\"field\":\"x_values\"},\"y\":{\"field\":\"y_values\"}},\"id\":\"a2351c04-71e8-4078-8003-5d9afa5fe225\",\"type\":\"Line\"},{\"attributes\":{\"label\":{\"value\":\"numpy\"},\"renderers\":[{\"id\":\"bff10912-81fe-4d85-ac00-214565fb1bc0\",\"type\":\"GlyphRenderer\"}]},\"id\":\"2117781b-7044-459d-9f40-c9a6fb912406\",\"type\":\"LegendItem\"},{\"attributes\":{\"plot\":{\"id\":\"3d4fde63-4f4b-4f80-87d0-2e4e067da17d\",\"subtype\":\"Chart\",\"type\":\"Plot\"}},\"id\":\"0aa91738-9fe8-449b-bc34-1d46ad25a1b0\",\"type\":\"SaveTool\"},{\"attributes\":{\"callback\":null,\"column_names\":[\"x_values\",\"y_values\"],\"data\":{\"Tag\":[\"pandas\",\"pandas\",\"pandas\",\"pandas\",\"pandas\",\"pandas\"],\"chart_index\":[{\"Tag\":\"pandas\"},{\"Tag\":\"pandas\"},{\"Tag\":\"pandas\"},{\"Tag\":\"pandas\"},{\"Tag\":\"pandas\"},{\"Tag\":\"pandas\"}],\"x_values\":[2011,2012,2013,2014,2015,2016],\"y_values\":[10,629,2524,5045,8061,10585]}},\"id\":\"0b18eb3c-ccb1-4bde-ba24-38f1691a0652\",\"type\":\"ColumnDataSource\"},{\"attributes\":{\"line_color\":{\"value\":\"magenta\"},\"line_width\":{\"value\":2},\"x\":{\"field\":\"x_values\"},\"y\":{\"field\":\"y_values\"}},\"id\":\"d261c518-5275-423e-a52a-18a342051c70\",\"type\":\"Line\"},{\"attributes\":{\"plot\":{\"id\":\"3d4fde63-4f4b-4f80-87d0-2e4e067da17d\",\"subtype\":\"Chart\",\"type\":\"Plot\"},\"ticker\":{\"id\":\"05e922b7-64fd-46b9-813d-b6aac2900afe\",\"type\":\"BasicTicker\"}},\"id\":\"2bde6071-06b3-4be8-9c4e-b56e43235583\",\"type\":\"Grid\"},{\"attributes\":{\"line_width\":{\"value\":2},\"x\":{\"field\":\"x_values\"},\"y\":{\"field\":\"y_values\"}},\"id\":\"e0cbc18f-ae92-46a6-9dfe-c451fcd8f265\",\"type\":\"Line\"},{\"attributes\":{\"label\":{\"value\":\"string\"},\"renderers\":[{\"id\":\"22496973-afdb-49a5-a4a0-f724c9db47b6\",\"type\":\"GlyphRenderer\"}]},\"id\":\"c67ff237-2856-4e4e-b71d-ea61d7b21e29\",\"type\":\"LegendItem\"},{\"attributes\":{},\"id\":\"2bd7569b-8c60-4612-b658-ec854304d422\",\"type\":\"BasicTickFormatter\"},{\"attributes\":{\"bottom_units\":\"screen\",\"fill_alpha\":{\"value\":0.5},\"fill_color\":{\"value\":\"lightgrey\"},\"left_units\":\"screen\",\"level\":\"overlay\",\"line_alpha\":{\"value\":1.0},\"line_color\":{\"value\":\"black\"},\"line_dash\":[4,4],\"line_width\":{\"value\":2},\"plot\":null,\"render_mode\":\"css\",\"right_units\":\"screen\",\"top_units\":\"screen\"},\"id\":\"0d64cb2e-5bf2-40fe-9c9f-42951d2711a7\",\"type\":\"BoxAnnotation\"},{\"attributes\":{\"callback\":null,\"column_names\":[\"x_values\",\"y_values\"],\"data\":{\"Tag\":[\"matplotlib\",\"matplotlib\",\"matplotlib\",\"matplotlib\",\"matplotlib\",\"matplotlib\",\"matplotlib\",\"matplotlib\",\"matplotlib\"],\"chart_index\":[{\"Tag\":\"matplotlib\"},{\"Tag\":\"matplotlib\"},{\"Tag\":\"matplotlib\"},{\"Tag\":\"matplotlib\"},{\"Tag\":\"matplotlib\"},{\"Tag\":\"matplotlib\"},{\"Tag\":\"matplotlib\"},{\"Tag\":\"matplotlib\"},{\"Tag\":\"matplotlib\"}],\"x_values\":[2008,2009,2010,2011,2012,2013,2014,2015,2016],\"y_values\":[3,76,292,705,1341,2370,3276,4114,4344]}},\"id\":\"5a358d4d-efd8-4768-ad51-eb27d51b871d\",\"type\":\"ColumnDataSource\"},{\"attributes\":{\"below\":[{\"id\":\"212550a1-73c4-4482-a8f1-5b9f7bd6f2c2\",\"type\":\"LinearAxis\"}],\"css_classes\":null,\"left\":[{\"id\":\"80072bf3-e294-4e31-b60b-351927b59054\",\"type\":\"LinearAxis\"}],\"renderers\":[{\"id\":\"0d64cb2e-5bf2-40fe-9c9f-42951d2711a7\",\"type\":\"BoxAnnotation\"},{\"id\":\"b279cc61-0904-48e8-8fe4-0735bdc8c843\",\"type\":\"GlyphRenderer\"},{\"id\":\"d0c5e17f-3448-4428-a0c6-4a0903315cf0\",\"type\":\"GlyphRenderer\"},{\"id\":\"50154f05-cc2a-4622-a7f6-899a0d1d06dc\",\"type\":\"GlyphRenderer\"},{\"id\":\"d0100987-992a-48de-9f4f-ed49138134b4\",\"type\":\"GlyphRenderer\"},{\"id\":\"bff10912-81fe-4d85-ac00-214565fb1bc0\",\"type\":\"GlyphRenderer\"},{\"id\":\"22524e1a-cff1-4354-9c02-f4262c4a8d45\",\"type\":\"GlyphRenderer\"},{\"id\":\"22496973-afdb-49a5-a4a0-f724c9db47b6\",\"type\":\"GlyphRenderer\"},{\"id\":\"4fa46489-4c7c-4c1b-9b3c-4a6f520364b3\",\"type\":\"Legend\"},{\"id\":\"212550a1-73c4-4482-a8f1-5b9f7bd6f2c2\",\"type\":\"LinearAxis\"},{\"id\":\"80072bf3-e294-4e31-b60b-351927b59054\",\"type\":\"LinearAxis\"},{\"id\":\"2bde6071-06b3-4be8-9c4e-b56e43235583\",\"type\":\"Grid\"},{\"id\":\"3152d41f-fa6b-4b84-8258-d653b7652cb0\",\"type\":\"Grid\"}],\"title\":{\"id\":\"0048e15d-7ef3-4f54-9aa2-1af4c000d2ce\",\"type\":\"Title\"},\"tool_events\":{\"id\":\"40b1c486-42b6-42bb-9874-166842cf8828\",\"type\":\"ToolEvents\"},\"toolbar\":{\"id\":\"9f9810f3-4017-43cd-a7bc-7571aa567d23\",\"type\":\"Toolbar\"},\"x_mapper_type\":\"auto\",\"x_range\":{\"id\":\"966ac22b-be57-4e01-a980-e2a4fb1f66c4\",\"type\":\"Range1d\"},\"y_mapper_type\":\"auto\",\"y_range\":{\"id\":\"6baca8a0-14c5-4846-a6f0-bd55b5fed0dd\",\"type\":\"Range1d\"}},\"id\":\"3d4fde63-4f4b-4f80-87d0-2e4e067da17d\",\"subtype\":\"Chart\",\"type\":\"Plot\"},{\"attributes\":{\"label\":{\"value\":\"dictionary\"},\"renderers\":[{\"id\":\"d0c5e17f-3448-4428-a0c6-4a0903315cf0\",\"type\":\"GlyphRenderer\"}]},\"id\":\"5a34deec-2f7b-4a8a-9e8a-7a1e81c7cc2a\",\"type\":\"LegendItem\"},{\"attributes\":{\"data_source\":{\"id\":\"7c70f70d-7d3f-40de-8e5d-1d2e98966702\",\"type\":\"ColumnDataSource\"},\"glyph\":{\"id\":\"f6abc1ca-2cb4-4e14-9933-16b3df9e8052\",\"type\":\"Line\"},\"hover_glyph\":null,\"muted_glyph\":null},\"id\":\"b279cc61-0904-48e8-8fe4-0735bdc8c843\",\"type\":\"GlyphRenderer\"},{\"attributes\":{\"plot\":{\"id\":\"3d4fde63-4f4b-4f80-87d0-2e4e067da17d\",\"subtype\":\"Chart\",\"type\":\"Plot\"}},\"id\":\"7786ba1f-0e35-480e-994d-30c6dab27846\",\"type\":\"PanTool\"},{\"attributes\":{\"label\":{\"value\":\"pandas\"},\"renderers\":[{\"id\":\"22524e1a-cff1-4354-9c02-f4262c4a8d45\",\"type\":\"GlyphRenderer\"}]},\"id\":\"58641949-07f5-4368-a44d-02101e90c057\",\"type\":\"LegendItem\"},{\"attributes\":{\"data_source\":{\"id\":\"f2613937-1329-4fef-843b-5536806ff4f5\",\"type\":\"ColumnDataSource\"},\"glyph\":{\"id\":\"1121a338-5c64-4e86-9640-ee6706df217f\",\"type\":\"Line\"},\"hover_glyph\":null,\"muted_glyph\":null},\"id\":\"22496973-afdb-49a5-a4a0-f724c9db47b6\",\"type\":\"GlyphRenderer\"},{\"attributes\":{\"callback\":null,\"end\":11643.2,\"start\":-1055.2},\"id\":\"6baca8a0-14c5-4846-a6f0-bd55b5fed0dd\",\"type\":\"Range1d\"},{\"attributes\":{\"line_color\":{\"value\":\"brown\"},\"line_width\":{\"value\":2},\"x\":{\"field\":\"x_values\"},\"y\":{\"field\":\"y_values\"}},\"id\":\"1121a338-5c64-4e86-9640-ee6706df217f\",\"type\":\"Line\"},{\"attributes\":{\"callback\":null,\"column_names\":[\"x_values\",\"y_values\"],\"data\":{\"Tag\":[\"list\",\"list\",\"list\",\"list\",\"list\",\"list\",\"list\",\"list\",\"list\"],\"chart_index\":[{\"Tag\":\"list\"},{\"Tag\":\"list\"},{\"Tag\":\"list\"},{\"Tag\":\"list\"},{\"Tag\":\"list\"},{\"Tag\":\"list\"},{\"Tag\":\"list\"},{\"Tag\":\"list\"},{\"Tag\":\"list\"}],\"x_values\":[2008,2009,2010,2011,2012,2013,2014,2015,2016],\"y_values\":[41,277,595,1071,1894,3322,3925,4405,3421]}},\"id\":\"c434e10b-9a6a-4460-a641-bd334fb2359d\",\"type\":\"ColumnDataSource\"},{\"attributes\":{\"axis_label\":\"Number of Questions\",\"formatter\":{\"id\":\"2bd7569b-8c60-4612-b658-ec854304d422\",\"type\":\"BasicTickFormatter\"},\"plot\":{\"id\":\"3d4fde63-4f4b-4f80-87d0-2e4e067da17d\",\"subtype\":\"Chart\",\"type\":\"Plot\"},\"ticker\":{\"id\":\"2634b748-6185-4beb-abdc-55a25e83530e\",\"type\":\"BasicTicker\"}},\"id\":\"80072bf3-e294-4e31-b60b-351927b59054\",\"type\":\"LinearAxis\"},{\"attributes\":{\"active_drag\":\"auto\",\"active_scroll\":\"auto\",\"active_tap\":\"auto\",\"tools\":[{\"id\":\"7786ba1f-0e35-480e-994d-30c6dab27846\",\"type\":\"PanTool\"},{\"id\":\"340fd8e3-4220-4c3f-a3a4-ed2b42fc6532\",\"type\":\"WheelZoomTool\"},{\"id\":\"0c8cb3c9-b760-4c08-a553-3b564a4ca0a3\",\"type\":\"BoxZoomTool\"},{\"id\":\"0aa91738-9fe8-449b-bc34-1d46ad25a1b0\",\"type\":\"SaveTool\"},{\"id\":\"b729234a-0ca6-4b26-96b0-5c99384ad4d7\",\"type\":\"ResetTool\"},{\"id\":\"21c29db2-6282-4193-81e9-e9dc1c5af7ef\",\"type\":\"HelpTool\"}]},\"id\":\"9f9810f3-4017-43cd-a7bc-7571aa567d23\",\"type\":\"Toolbar\"},{\"attributes\":{\"plot\":null,\"text\":null},\"id\":\"0048e15d-7ef3-4f54-9aa2-1af4c000d2ce\",\"type\":\"Title\"},{\"attributes\":{\"plot\":{\"id\":\"3d4fde63-4f4b-4f80-87d0-2e4e067da17d\",\"subtype\":\"Chart\",\"type\":\"Plot\"}},\"id\":\"b729234a-0ca6-4b26-96b0-5c99384ad4d7\",\"type\":\"ResetTool\"},{\"attributes\":{\"items\":[{\"id\":\"f79e336f-dd7a-45a7-bd2c-85172ee843e3\",\"type\":\"LegendItem\"},{\"id\":\"5a34deec-2f7b-4a8a-9e8a-7a1e81c7cc2a\",\"type\":\"LegendItem\"},{\"id\":\"48d8bed7-b9a0-4ea4-9fca-2889f699c386\",\"type\":\"LegendItem\"},{\"id\":\"4849fc61-40f9-44b6-9248-7c3c62e1a4a4\",\"type\":\"LegendItem\"},{\"id\":\"2117781b-7044-459d-9f40-c9a6fb912406\",\"type\":\"LegendItem\"},{\"id\":\"58641949-07f5-4368-a44d-02101e90c057\",\"type\":\"LegendItem\"},{\"id\":\"c67ff237-2856-4e4e-b71d-ea61d7b21e29\",\"type\":\"LegendItem\"}],\"location\":\"top_left\",\"plot\":{\"id\":\"3d4fde63-4f4b-4f80-87d0-2e4e067da17d\",\"subtype\":\"Chart\",\"type\":\"Plot\"}},\"id\":\"4fa46489-4c7c-4c1b-9b3c-4a6f520364b3\",\"type\":\"Legend\"},{\"attributes\":{\"callback\":null,\"end\":2016.8,\"start\":2007.2},\"id\":\"966ac22b-be57-4e01-a980-e2a4fb1f66c4\",\"type\":\"Range1d\"},{\"attributes\":{\"callback\":null,\"column_names\":[\"x_values\",\"y_values\"],\"data\":{\"Tag\":[\"arrays\",\"arrays\",\"arrays\",\"arrays\",\"arrays\",\"arrays\",\"arrays\",\"arrays\",\"arrays\"],\"chart_index\":[{\"Tag\":\"arrays\"},{\"Tag\":\"arrays\"},{\"Tag\":\"arrays\"},{\"Tag\":\"arrays\"},{\"Tag\":\"arrays\"},{\"Tag\":\"arrays\"},{\"Tag\":\"arrays\"},{\"Tag\":\"arrays\"},{\"Tag\":\"arrays\"}],\"x_values\":[2008,2009,2010,2011,2012,2013,2014,2015,2016],\"y_values\":[11,66,173,335,526,1228,1962,2534,2335]}},\"id\":\"7c70f70d-7d3f-40de-8e5d-1d2e98966702\",\"type\":\"ColumnDataSource\"}],\"root_ids\":[\"3d4fde63-4f4b-4f80-87d0-2e4e067da17d\"]},\"title\":\"Bokeh Application\",\"version\":\"0.12.5\"}};\n",
       "            var render_items = [{\"docid\":\"f937dfc7-6c89-41da-9add-9d6372cd8b5e\",\"elementid\":\"ea8610e6-467d-4cf5-8935-a8bb28ac4986\",\"modelid\":\"3d4fde63-4f4b-4f80-87d0-2e4e067da17d\"}];\n",
       "            \n",
       "            Bokeh.embed.embed_items(docs_json, render_items);\n",
       "          };\n",
       "          if (document.readyState != \"loading\") fn();\n",
       "          else document.addEventListener(\"DOMContentLoaded\", fn);\n",
       "        })();\n",
       "      },\n",
       "      function(Bokeh) {\n",
       "      }\n",
       "    ];\n",
       "  \n",
       "    function run_inline_js() {\n",
       "      \n",
       "      if ((window.Bokeh !== undefined) || (force === true)) {\n",
       "        for (var i = 0; i < inline_js.length; i++) {\n",
       "          inline_js[i](window.Bokeh);\n",
       "        }if (force === true) {\n",
       "          display_loaded();\n",
       "        }} else if (Date.now() < window._bokeh_timeout) {\n",
       "        setTimeout(run_inline_js, 100);\n",
       "      } else if (!window._bokeh_failed_load) {\n",
       "        console.log(\"Bokeh: BokehJS failed to load within specified timeout.\");\n",
       "        window._bokeh_failed_load = true;\n",
       "      } else if (force !== true) {\n",
       "        var cell = $(document.getElementById(\"ea8610e6-467d-4cf5-8935-a8bb28ac4986\")).parents('.cell').data().cell;\n",
       "        cell.output_area.append_execute_result(NB_LOAD_WARNING)\n",
       "      }\n",
       "  \n",
       "    }\n",
       "  \n",
       "    if (window._bokeh_is_loading === 0) {\n",
       "      console.log(\"Bokeh: BokehJS loaded, going straight to plotting\");\n",
       "      run_inline_js();\n",
       "    } else {\n",
       "      load_libs(js_urls, function() {\n",
       "        console.log(\"Bokeh: BokehJS plotting callback run at\", now());\n",
       "        run_inline_js();\n",
       "      });\n",
       "    }\n",
       "  }(this));\n",
       "</script>"
      ]
     },
     "metadata": {},
     "output_type": "display_data"
    }
   ],
   "source": [
    "# from bokeh import specific functions\n",
    "from bokeh.charts import BoxPlot \n",
    "from bokeh.io import output_notebook\n",
    "from bokeh.io import show\n",
    "from bokeh.plotting import figure\n",
    "from bokeh.models import Range1d, HoverTool\n",
    "from bokeh.charts import Bar, Line, Scatter\n",
    "from bokeh.palettes import brewer\n",
    "from bokeh.charts import TimeSeries\n",
    "output_notebook()  \n",
    "# tell bokeh to output within this notebook\n",
    "\n",
    "# for each tag, plot the Number of Questions over the years\n",
    "p = Line(filDataGroup, x='Year', y = \"Id\", color = \"Tag\", xlabel = \"Years\", ylabel=\"Number of Questions\",\n",
    "# give each tag's plot a different color        \n",
    "         palette=[\"red\", \"green\", \"blue\",\"yellow\", \"magenta\", \"black\",\"brown\"])\n",
    "\n",
    "show(p) #plot time series with each of the seven tags"
   ]
  },
  {
   "cell_type": "markdown",
   "metadata": {
    "collapsed": true
   },
   "source": [
    "The above image shows the number of questions asked about a particular topic over the eight years of data. In general, each of the topic's frequency is increasing, possibly largely due to the increase in popularity regarding Stack Overflow and python as a whole. One notable trend is the pandas line, which originated around the end of 2010, but has gained a massive amount of popularity in its shorter lifespan due to its usefulness, resulting in a frequency spike higher than the other taglines."
   ]
  },
  {
   "cell_type": "markdown",
   "metadata": {
    "collapsed": true
   },
   "source": [
    "#### Predictive Model of Good and Bad Questions"
   ]
  },
  {
   "cell_type": "markdown",
   "metadata": {},
   "source": [
    "With so many questions regarding python stored within the database, trends will undoubted begin to develop that result in certain questions being more successful than others. Questions that get a large amount of upvotes and contain popular tags seem to be more successful, but we want to discover to what degree they are. Having known what makes a question \"good\" or \"bad\", can we create a predictive model that can look at a question and determine whether it is good? If so, our aim is to make this prediction as accurate as possible in order to have an accurately classify each of the remaining questions within the question database."
   ]
  },
  {
   "cell_type": "code",
   "execution_count": 29,
   "metadata": {
    "collapsed": true
   },
   "outputs": [],
   "source": [
    "questions = pd.read_csv('Questions.csv', usecols = ['Id','CreationDate','Score'])\n",
    "# Extract Id, CreationDate, and Score columns from questions dataset\n",
    "tags = pd.read_csv('Tags.csv') \n",
    "# Get the Tags dataset"
   ]
  },
  {
   "cell_type": "code",
   "execution_count": 30,
   "metadata": {
    "collapsed": true
   },
   "outputs": [],
   "source": [
    "#tags chosen for this analysis, based on the top list, with self-explanitory tags such as \"python\" removed'\n",
    "tagsNeeded = ['pandas','numpy','list','matplotlib','dictionary',\n",
    "              'string','arrays','scipy','class','dataframe',\n",
    "              'function','scikit-learn','pip','datetime','multithreading']\n",
    "\n",
    "# Merge the two datasets\n",
    "df = questions.merge(tags,on='Id',how='left')\n",
    "\n",
    "# Define \"Good\" and \"Bad\"\n",
    "df['Good/Bad'] = np.where((df['Tag'].isin(tagsNeeded)) & (df['Score']>0), 1, 0)"
   ]
  },
  {
   "cell_type": "code",
   "execution_count": 31,
   "metadata": {},
   "outputs": [
    {
     "data": {
      "text/plain": [
       "0    1788119\n",
       "1      96955\n",
       "Name: Good/Bad, dtype: int64"
      ]
     },
     "execution_count": 31,
     "metadata": {},
     "output_type": "execute_result"
    }
   ],
   "source": [
    "df['Good/Bad'].value_counts() \n",
    "# Count the number of good and bad questions in dataset"
   ]
  },
  {
   "cell_type": "markdown",
   "metadata": {},
   "source": [
    "This is the number of questions within the dataset that are considered \"good\"(1) or \"bad\"(0). A \"bad\" questions does not neccessarily mean that the question has no value or is not good, but does not meet the threshold that makes it an exemplary questions, which is about 7% of the total questions. "
   ]
  },
  {
   "cell_type": "code",
   "execution_count": 32,
   "metadata": {
    "collapsed": true
   },
   "outputs": [],
   "source": [
    "tags_df = tags.groupby('Tag',as_index = False).count() \n",
    "# Group by Tag to find popular questions\n",
    "tags_df = tags_df.sort_values(['Id'], ascending=False)\n",
    "# Sort the values to identify the top ones.\n",
    "tags_df = tags_df.reset_index(drop = True) \n",
    "# Reset the index\n",
    "tags_top = tags_df[:5] \n",
    "# Identify the top 5 tags\n",
    "\n",
    "\n",
    "filData = df[['Id','CreationDate','Tag','Good/Bad','Score']]\n",
    "# Extract data we need.\n",
    "filData = filData[filData['Tag'].isin(tags_top['Tag'])] \n",
    "# This is optional; Only needed if we are using the above block of code."
   ]
  },
  {
   "cell_type": "code",
   "execution_count": 33,
   "metadata": {
    "collapsed": true
   },
   "outputs": [],
   "source": [
    "df_filt = pd.get_dummies(filData['Tag']) \n",
    "# Get the dummie variables\n",
    "dfFinal = pd.concat([df,df_filt],axis=1) \n",
    "# Now that you have the dummies, combine the dataframes\n",
    "dfFinal.fillna(0, inplace=True) \n",
    "# Fill the NaN to 0s."
   ]
  },
  {
   "cell_type": "code",
   "execution_count": 34,
   "metadata": {
    "collapsed": true
   },
   "outputs": [],
   "source": [
    "dfFinal['Score1']=dfFinal['Score'] \n",
    "# Move the columns around"
   ]
  },
  {
   "cell_type": "code",
   "execution_count": 35,
   "metadata": {},
   "outputs": [
    {
     "name": "stderr",
     "output_type": "stream",
     "text": [
      "C:\\Users\\Doug\\Anaconda2\\lib\\site-packages\\sklearn\\cross_validation.py:44: DeprecationWarning: This module was deprecated in version 0.18 in favor of the model_selection module into which all the refactored classes and functions are moved. Also note that the interface of the new CV iterators are different from that of this module. This module will be removed in 0.20.\n",
      "  \"This module will be removed in 0.20.\", DeprecationWarning)\n"
     ]
    },
    {
     "name": "stdout",
     "output_type": "stream",
     "text": [
      "Accuracy is  95.8187340026\n"
     ]
    },
    {
     "data": {
      "text/plain": [
       "array([[357858,     14],\n",
       "       [ 15750,   3393]])"
      ]
     },
     "execution_count": 35,
     "metadata": {},
     "output_type": "execute_result"
    }
   ],
   "source": [
    "from sklearn.cross_validation import train_test_split\n",
    "from sklearn.tree import DecisionTreeClassifier\n",
    "from sklearn.metrics import accuracy_score, confusion_matrix\n",
    "\n",
    "train, test = train_test_split(dfFinal, test_size = 0.2)\n",
    "#Define Training and Testing\n",
    "\n",
    "features = list(train.columns[5:])\n",
    "# Feature List\n",
    "\n",
    "Y = train[\"Good/Bad\"] \n",
    "X = train[features] \n",
    "#Define X and Y\n",
    "\n",
    "Y_Test = test[\"Good/Bad\"] \n",
    "X_Test = test[features]\n",
    "#Define X,Y on Test\n",
    "\n",
    "dt = DecisionTreeClassifier() \n",
    "# Create a model to be used\n",
    "dt_fit = dt.fit(X, Y) #Fit the model to the data\n",
    "\n",
    "Y_pred = dt_fit.predict(X_Test) \n",
    "# Now, test the model by attempting to predict\n",
    "# Y_pred #-If you want to see the prediction(s), uncomment this\n",
    "\n",
    "print \"Accuracy is \", accuracy_score(Y_Test,Y_pred)*100\n",
    "# print the Accuracy\n",
    "\n",
    "confusion_matrix(Y_Test, Y_pred, labels = [0,1]) \n",
    "# print the confusion Matrix"
   ]
  },
  {
   "cell_type": "code",
   "execution_count": 36,
   "metadata": {},
   "outputs": [
    {
     "name": "stdout",
     "output_type": "stream",
     "text": [
      "Please enter the score:55\n",
      "Please enter the tag:'pandas'\n",
      "Good Question\n"
     ]
    },
    {
     "name": "stderr",
     "output_type": "stream",
     "text": [
      "C:\\Users\\Doug\\Anaconda2\\lib\\site-packages\\sklearn\\utils\\validation.py:395: DeprecationWarning: Passing 1d arrays as data is deprecated in 0.17 and will raise ValueError in 0.19. Reshape your data either using X.reshape(-1, 1) if your data has a single feature or X.reshape(1, -1) if it contains a single sample.\n",
      "  DeprecationWarning)\n"
     ]
    }
   ],
   "source": [
    "#Custom Prediction Maker\n",
    "df2 = pd.DataFrame(data = None, columns=df_filt.columns)\n",
    "\n",
    "def zerolistmaker(n):\n",
    "    listofzeros = [0] * n\n",
    "    return listofzeros\n",
    "# create list of zero values\n",
    "\n",
    "def main():\n",
    "    s = input(\"Please enter the score:\")\n",
    "# create manual input for score\n",
    "    tag = str(input(\"Please enter the tag:\"))\n",
    "# create manual input for score\n",
    "    truth = tag in list(df2)\n",
    "    myList = zerolistmaker(len(list(df2))+1)\n",
    "    myList[len(list(df2))] = s\n",
    "    if truth:\n",
    "        i = list(df2).index(tag)\n",
    "        myList[i]=1\n",
    "#zero becomes 1 or good question if true\n",
    "    if dt_fit.predict(myList) == 1:\n",
    "        print 'Good Question'\n",
    "    else:\n",
    "        print 'Not a Good Question'\n",
    "# prints result of output. If equal to one question is good\n",
    "    \n",
    "main()  \n",
    "###When entering data, write tags in quotation marks. For example -'numpy' ###"
   ]
  },
  {
   "cell_type": "markdown",
   "metadata": {},
   "source": [
    "We ended up using the decision tree with 5 dummy variables for the 5 top topics since it gave us a relatively high accuracy rate without too much complexity. The above function takes a topic sees if it is one of top 5 topics, then uses the score as the second parameter. It creates a row with the score and the appropriate dummy variable and runs the specific row through the model to predict whether it is a good question or not."
   ]
  },
  {
   "cell_type": "markdown",
   "metadata": {
    "collapsed": true
   },
   "source": [
    "With this model, we are able to specify the score of the question as well as the tag and determine whether the question is good, at around 95% accuracy Given these tags and the question score, the algorithm can analyze each the questions and decide the goodness, as denoted by a 1 for good or a 0 for not good."
   ]
  },
  {
   "cell_type": "markdown",
   "metadata": {},
   "source": [
    "#### Conclusion and Recommendation"
   ]
  },
  {
   "cell_type": "markdown",
   "metadata": {
    "collapsed": true
   },
   "source": [
    "Summarizing the results of the various analyses, we can draw recommendations towards the teaching of python and use these insights to improve the curriculum and teaching methods of python instructors. By knowing the key topics that students and users ask about, instructors can make sure that they cover these topics in detail. The top 20 list should be reviewed by each instructor, and they should adjust their curriculum to reflect these important topics. By learning more about these topics in class and during projects, students will develop a firmer understanding from the class and feel less of a need to look towards outside sources for assistance.\n",
    "\n",
    "Knowing the peak times that students program is helpful as well. Because the peak times during weekdays are consistent, professors can make themselves or teaching assistants available during this time to answer student concerns. For example, a professor could schedule office hours for TAs from 2-4pm each day to accommodate for the time that most people find it convenient to code. This will assist in the learning process and ensure that students always have resources available during peak times.\n",
    "\n",
    "Furthermore, knowing on average how fast question are answered within Stack Overflow can be helpful in encouraging instructors to use it as a resource. Since instructors have limited time and resources, and are not always available to address student concerns, recommending the wealth of crowdsourced information that Stack Overflow provides or including links to particular questions that are answered could provide students with additional tools to enhance learning.\n",
    "\n",
    "Finally, by knowing which questions are considered “good” and “bad” questions, instructors can use Stack Overflow to find “good” questions to present to classes and provide additional resources for students. In addition, instructors can be encouraged to answer “good” questions on Stack Overflow, thus providing their knowledge beyond the classroom to a broader range of users. \n",
    "\n",
    "By using the data presented on one of the largest coding sites, we are able to ease the burden of learning and make the python learning process more natural for students. As more students develop a further understanding of the concepts, then they in turn can transfer this knowledge into beginners who wish to learn programming themselves, thus spreading the scope of python and programming in general even further.\n"
   ]
  }
 ],
 "metadata": {
  "kernelspec": {
   "display_name": "Python 2",
   "language": "python",
   "name": "python2"
  },
  "language_info": {
   "codemirror_mode": {
    "name": "ipython",
    "version": 2
   },
   "file_extension": ".py",
   "mimetype": "text/x-python",
   "name": "python",
   "nbconvert_exporter": "python",
   "pygments_lexer": "ipython2",
   "version": "2.7.13"
  }
 },
 "nbformat": 4,
 "nbformat_minor": 2
}
